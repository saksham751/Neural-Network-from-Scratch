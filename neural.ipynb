{
  "cells": [
    {
      "cell_type": "markdown",
      "metadata": {
        "id": "view-in-github",
        "colab_type": "text"
      },
      "source": [
        "<a href=\"https://colab.research.google.com/github/saksham751/Neural-Network-from-Scratch/blob/some-QOL-changes/neural.ipynb\" target=\"_parent\"><img src=\"https://colab.research.google.com/assets/colab-badge.svg\" alt=\"Open In Colab\"/></a>"
      ]
    },
    {
      "cell_type": "markdown",
      "source": [
        "# Importing Libraries"
      ],
      "metadata": {
        "id": "d0bhdWODWEFR"
      }
    },
    {
      "cell_type": "code",
      "execution_count": 117,
      "metadata": {
        "id": "ErPvb4A0QhTU"
      },
      "outputs": [],
      "source": [
        "import numpy as np\n",
        "import matplotlib.pyplot as plt\n",
        "from tensorflow.keras.datasets.mnist import load_data\n",
        "from sklearn import datasets\n",
        "from sklearn.model_selection import train_test_split\n",
        "from sklearn.metrics import mean_squared_error"
      ]
    },
    {
      "cell_type": "markdown",
      "source": [
        "# Neural Network Class"
      ],
      "metadata": {
        "id": "Q_8f2C8xWOIN"
      }
    },
    {
      "cell_type": "code",
      "execution_count": 118,
      "metadata": {
        "id": "H9-BcHrPB1hq"
      },
      "outputs": [],
      "source": [
        "class Layer:\n",
        "    def __init__(self):\n",
        "        self.input = None\n",
        "        self.output = None\n",
        "    def forward_propagation(self, input):\n",
        "        raise NotImplementedError\n",
        "    def backward_propagation(self, output_error, learning_rate):\n",
        "        raise NotImplementedError"
      ]
    },
    {
      "cell_type": "code",
      "execution_count": 119,
      "metadata": {
        "id": "79sacV9gD6nF"
      },
      "outputs": [],
      "source": [
        "class completeLayer(Layer):\n",
        "  \n",
        "    def __init__(self, input_size, output_size):\n",
        "        self.weights = np.random.rand(input_size, output_size)\n",
        "        self.bias = np.random.rand(1, output_size)\n",
        "\n",
        "    def forward_propagation(self, input_data):\n",
        "        self.input = input_data\n",
        "        self.output = np.dot(self.input, self.weights) + self.bias\n",
        "        return self.output\n",
        "\n",
        "    def backward_propagation(self, output_error, learning_rate):\n",
        "        #print(output_error.shape, self.weights.T.shape)\n",
        "        #print(self.input.T.shape, output_error.shape)\n",
        "        input_error = np.dot(output_error, self.weights.T)\n",
        "        weights_error = np.dot(self.input.T.reshape(self.input.T.shape[0],1), output_error)\n",
        "        \n",
        "        self.weights -= learning_rate * weights_error\n",
        "        self.bias = self.bias-learning_rate * output_error\n",
        "        return input_error"
      ]
    },
    {
      "cell_type": "code",
      "execution_count": 120,
      "metadata": {
        "id": "IHcNHZu4D9nv"
      },
      "outputs": [],
      "source": [
        "\n",
        "class activationFunction(Layer):\n",
        "    def __init__(self, activation, activationDer):\n",
        "        self.activation = activation\n",
        "        self.activationDer = activationDer\n",
        "\n",
        "    def forward_propagation(self, input_data):\n",
        "        self.input = input_data\n",
        "        self.output = self.activation(self.input)\n",
        "        return self.output\n",
        "\n",
        "    def backward_propagation(self, output_error, learning_rate):\n",
        "        return self.activationDer(self.input) * output_error"
      ]
    },
    {
      "cell_type": "code",
      "execution_count": 121,
      "metadata": {
        "id": "AMAXWGhoEBLy"
      },
      "outputs": [],
      "source": [
        "    def sig(x):\n",
        "      return 1/(1 + np.exp(-x))\n",
        "\n",
        "    def sig_der(x):\n",
        "      return sig(x)*(1-sig(x))\n",
        "  \n",
        "    def tanh(x):\n",
        "      return np.tanh(x)\n",
        "\n",
        "    def tanh_prime(x):\n",
        "      return 1-np.tanh(x)**2\n",
        "\n",
        "    def relu(x):\n",
        "      return np.maximum(x, 0)\n",
        "\n",
        "    def relu_der(x):\n",
        "      return 1. * (x > 0)\n",
        "\n",
        "    def linear(x):\n",
        "      return x\n",
        "\n",
        "    def linear_der(x):\n",
        "      return 1\n",
        "\n",
        "    "
      ]
    },
    {
      "cell_type": "code",
      "execution_count": 122,
      "metadata": {
        "id": "N0UGvByZEBVd"
      },
      "outputs": [],
      "source": [
        "\n",
        "def mse(y_true, y_pred):\n",
        "    return np.mean(np.power(y_true-y_pred, 2));\n",
        "\n",
        "def mseDer(y_true, y_pred):\n",
        "    return 2*(y_pred-y_true)/y_true.size;"
      ]
    },
    {
      "cell_type": "code",
      "execution_count": 123,
      "metadata": {
        "id": "fC2OB3KEEDzt"
      },
      "outputs": [],
      "source": [
        "class Network:\n",
        "    def __init__(self):\n",
        "        self.layers = []\n",
        "        self.loss = None\n",
        "        self.loss_prime = None\n",
        "\n",
        "    def add(self, layer):\n",
        "        self.layers.append(layer)\n",
        "\n",
        "    def use(self, loss, loss_prime):\n",
        "        self.loss = loss\n",
        "        self.loss_prime = loss_prime\n",
        "\n",
        "    def predict(self, input_data):\n",
        "\n",
        "        samples = len(input_data)\n",
        "        result = []\n",
        "        for i in range(samples):\n",
        "\n",
        "            output = input_data[i]\n",
        "            for layer in self.layers:\n",
        "                output = layer.forward_propagation(output)\n",
        "            result.append(output)\n",
        "\n",
        "        return result\n",
        "\n",
        "    def fit(self, x_train, y_train, epochs, learning_rate):\n",
        "\n",
        "        samples = len(x_train)\n",
        "        for i in range(epochs):\n",
        "            err = 0\n",
        "            for j in range(samples):\n",
        "  \n",
        "                output = x_train[j]\n",
        "                \n",
        "                for layer in self.layers:\n",
        "                    output = layer.forward_propagation(output)\n",
        "                err += self.loss(y_train[j], output)\n",
        "\n",
        "                error = self.loss_prime(y_train[j], output)\n",
        "                #error.reshape(784,1)\n",
        "                for layer in reversed(self.layers):\n",
        "                    error = layer.backward_propagation(error, learning_rate)\n",
        "                #print('error=%f'%(err/j))\n",
        "\n",
        "            err /= samples\n",
        "            if((i+1)%10==0 or i==0):\n",
        "              print('epoch %d/%d   error=%f' % (i+1, epochs, err))"
      ]
    },
    {
      "cell_type": "code",
      "source": [
        "def classAccuracy( y_test,res):\n",
        "  cor=0\n",
        "  for x,y in zip(y_test,res):\n",
        "    cor+=x==y\n",
        "  acc=cor/len(res)*100\n",
        "  return acc"
      ],
      "metadata": {
        "id": "2EovPnwhC2S0"
      },
      "execution_count": 124,
      "outputs": []
    },
    {
      "cell_type": "code",
      "source": [
        "def mseRegression(y_test,res):\n",
        "  errors = mean_squared_error(y_test, res)\n",
        "  return errors"
      ],
      "metadata": {
        "id": "AAJFysS9Drxx"
      },
      "execution_count": 125,
      "outputs": []
    },
    {
      "cell_type": "markdown",
      "source": [
        "# Classification Task"
      ],
      "metadata": {
        "id": "kRRHEjLoWjSn"
      }
    },
    {
      "cell_type": "code",
      "execution_count": 327,
      "metadata": {
        "id": "ihyEQaVix9Pc"
      },
      "outputs": [],
      "source": [
        "#Loading the iris dataset\n",
        "iris = datasets.load_iris()\n",
        "x, y = iris.data, iris.target"
      ]
    },
    {
      "cell_type": "code",
      "execution_count": 328,
      "metadata": {
        "id": "cAfqk4XrdP1L"
      },
      "outputs": [],
      "source": [
        "x_train,x_test,y_train,y_test=train_test_split(x,y,test_size=0.2,random_state=123)"
      ]
    },
    {
      "cell_type": "code",
      "execution_count": 329,
      "metadata": {
        "colab": {
          "base_uri": "https://localhost:8080/"
        },
        "id": "mi73INFYmEYQ",
        "outputId": "0941a4cf-4534-4937-a7c8-a88c2e78f8a1"
      },
      "outputs": [
        {
          "output_type": "execute_result",
          "data": {
            "text/plain": [
              "array([2, 2, 0, 0, 1, 1, 2, 0, 0, 1, 1, 0, 2, 2, 2, 2, 2, 1, 0, 0, 2, 0,\n",
              "       0, 1, 1, 1, 1, 2, 1, 2, 0, 2, 1, 0, 0, 2, 1, 2, 2, 0, 1, 1, 2, 0,\n",
              "       2, 1, 1, 0, 2, 2, 0, 0, 1, 1, 2, 0, 0, 1, 0, 1, 2, 0, 2, 0, 0, 1,\n",
              "       0, 0, 1, 2, 1, 1, 1, 0, 0, 1, 2, 0, 0, 1, 1, 1, 2, 1, 1, 1, 2, 0,\n",
              "       0, 1, 2, 2, 2, 2, 0, 1, 0, 1, 1, 0, 1, 2, 1, 2, 2, 0, 1, 0, 2, 2,\n",
              "       1, 1, 2, 2, 1, 0, 1, 1, 2, 2])"
            ]
          },
          "metadata": {},
          "execution_count": 329
        }
      ],
      "source": [
        "#calculating the number of classes in the dataset\n",
        "x_train.shape[1]\n",
        "classes=np.unique(y_train).size\n",
        "y_train"
      ]
    },
    {
      "cell_type": "code",
      "execution_count": 330,
      "metadata": {
        "colab": {
          "base_uri": "https://localhost:8080/"
        },
        "id": "DjuCKQ6boaXu",
        "outputId": "05166d87-fc16-4e1a-be37-1649fd59e6e3"
      },
      "outputs": [
        {
          "output_type": "execute_result",
          "data": {
            "text/plain": [
              "(120, 3)"
            ]
          },
          "metadata": {},
          "execution_count": 330
        }
      ],
      "source": [
        "#converting to binary encoded categorical values\n",
        "from keras.utils import np_utils\n",
        "y_train = np_utils.to_categorical(y_train)\n",
        "y_train.shape"
      ]
    },
    {
      "cell_type": "code",
      "execution_count": 331,
      "metadata": {
        "id": "ULweqQov0yGs"
      },
      "outputs": [],
      "source": [
        "network1 = Network()\n",
        "x1=x_train.shape[1]\n",
        "x2=4\n",
        "network1.add(completeLayer(x1, x2))\n",
        "network1.add(activationFunction(tanh, tanh_prime))\n",
        "network1.add(completeLayer(x2, classes))\n",
        "network1.add(activationFunction(tanh, tanh_prime))\n"
      ]
    },
    {
      "cell_type": "code",
      "source": [
        "x_train.shape"
      ],
      "metadata": {
        "colab": {
          "base_uri": "https://localhost:8080/"
        },
        "id": "c9uqgj6kZwQ6",
        "outputId": "be89c541-a0b4-4cff-e055-0bcf4e7d1817"
      },
      "execution_count": 332,
      "outputs": [
        {
          "output_type": "execute_result",
          "data": {
            "text/plain": [
              "(120, 4)"
            ]
          },
          "metadata": {},
          "execution_count": 332
        }
      ]
    },
    {
      "cell_type": "code",
      "execution_count": 333,
      "metadata": {
        "colab": {
          "base_uri": "https://localhost:8080/"
        },
        "id": "YKEf5Ze890J_",
        "outputId": "02d37f8b-e391-4d2b-9fa9-ee6f7e47f7aa"
      },
      "outputs": [
        {
          "output_type": "stream",
          "name": "stdout",
          "text": [
            "epoch 1/5000   error=0.649241\n",
            "epoch 10/5000   error=0.647529\n",
            "epoch 20/5000   error=0.645170\n",
            "epoch 30/5000   error=0.642126\n",
            "epoch 40/5000   error=0.638048\n",
            "epoch 50/5000   error=0.632300\n",
            "epoch 60/5000   error=0.623626\n",
            "epoch 70/5000   error=0.609275\n",
            "epoch 80/5000   error=0.582956\n",
            "epoch 90/5000   error=0.536655\n",
            "epoch 100/5000   error=0.495633\n",
            "epoch 110/5000   error=0.480198\n",
            "epoch 120/5000   error=0.464439\n",
            "epoch 130/5000   error=0.436731\n",
            "epoch 140/5000   error=0.400225\n",
            "epoch 150/5000   error=0.383251\n",
            "epoch 160/5000   error=0.381030\n",
            "epoch 170/5000   error=0.380871\n",
            "epoch 180/5000   error=0.380857\n",
            "epoch 190/5000   error=0.380854\n",
            "epoch 200/5000   error=0.380852\n",
            "epoch 210/5000   error=0.380850\n",
            "epoch 220/5000   error=0.380847\n",
            "epoch 230/5000   error=0.380845\n",
            "epoch 240/5000   error=0.380843\n",
            "epoch 250/5000   error=0.380841\n",
            "epoch 260/5000   error=0.380839\n",
            "epoch 270/5000   error=0.380837\n",
            "epoch 280/5000   error=0.380835\n",
            "epoch 290/5000   error=0.380833\n",
            "epoch 300/5000   error=0.380831\n",
            "epoch 310/5000   error=0.380828\n",
            "epoch 320/5000   error=0.380826\n",
            "epoch 330/5000   error=0.380824\n",
            "epoch 340/5000   error=0.380822\n",
            "epoch 350/5000   error=0.380819\n",
            "epoch 360/5000   error=0.380817\n",
            "epoch 370/5000   error=0.380815\n",
            "epoch 380/5000   error=0.380812\n",
            "epoch 390/5000   error=0.380810\n",
            "epoch 400/5000   error=0.380807\n",
            "epoch 410/5000   error=0.380805\n",
            "epoch 420/5000   error=0.380802\n",
            "epoch 430/5000   error=0.380800\n",
            "epoch 440/5000   error=0.380797\n",
            "epoch 450/5000   error=0.380795\n",
            "epoch 460/5000   error=0.380792\n",
            "epoch 470/5000   error=0.380790\n",
            "epoch 480/5000   error=0.380787\n",
            "epoch 490/5000   error=0.380784\n",
            "epoch 500/5000   error=0.380782\n",
            "epoch 510/5000   error=0.380779\n",
            "epoch 520/5000   error=0.380776\n",
            "epoch 530/5000   error=0.380773\n",
            "epoch 540/5000   error=0.380771\n",
            "epoch 550/5000   error=0.380768\n",
            "epoch 560/5000   error=0.380765\n",
            "epoch 570/5000   error=0.380762\n",
            "epoch 580/5000   error=0.380759\n",
            "epoch 590/5000   error=0.380756\n",
            "epoch 600/5000   error=0.380753\n",
            "epoch 610/5000   error=0.380750\n",
            "epoch 620/5000   error=0.380747\n",
            "epoch 630/5000   error=0.380744\n",
            "epoch 640/5000   error=0.380741\n",
            "epoch 650/5000   error=0.380737\n",
            "epoch 660/5000   error=0.380734\n",
            "epoch 670/5000   error=0.380731\n",
            "epoch 680/5000   error=0.380728\n",
            "epoch 690/5000   error=0.380724\n",
            "epoch 700/5000   error=0.380721\n",
            "epoch 710/5000   error=0.380717\n",
            "epoch 720/5000   error=0.380714\n",
            "epoch 730/5000   error=0.380710\n",
            "epoch 740/5000   error=0.380707\n",
            "epoch 750/5000   error=0.380703\n",
            "epoch 760/5000   error=0.380699\n",
            "epoch 770/5000   error=0.380696\n",
            "epoch 780/5000   error=0.380692\n",
            "epoch 790/5000   error=0.380688\n",
            "epoch 800/5000   error=0.380684\n",
            "epoch 810/5000   error=0.380680\n",
            "epoch 820/5000   error=0.380676\n",
            "epoch 830/5000   error=0.380672\n",
            "epoch 840/5000   error=0.380668\n",
            "epoch 850/5000   error=0.380664\n",
            "epoch 860/5000   error=0.380660\n",
            "epoch 870/5000   error=0.380656\n",
            "epoch 880/5000   error=0.380651\n",
            "epoch 890/5000   error=0.380647\n",
            "epoch 900/5000   error=0.380643\n",
            "epoch 910/5000   error=0.380638\n",
            "epoch 920/5000   error=0.380633\n",
            "epoch 930/5000   error=0.380629\n",
            "epoch 940/5000   error=0.380624\n",
            "epoch 950/5000   error=0.380619\n",
            "epoch 960/5000   error=0.380615\n",
            "epoch 970/5000   error=0.380610\n",
            "epoch 980/5000   error=0.380605\n",
            "epoch 990/5000   error=0.380600\n",
            "epoch 1000/5000   error=0.380594\n",
            "epoch 1010/5000   error=0.380589\n",
            "epoch 1020/5000   error=0.380584\n",
            "epoch 1030/5000   error=0.380579\n",
            "epoch 1040/5000   error=0.380573\n",
            "epoch 1050/5000   error=0.380568\n",
            "epoch 1060/5000   error=0.380562\n",
            "epoch 1070/5000   error=0.380556\n",
            "epoch 1080/5000   error=0.380550\n",
            "epoch 1090/5000   error=0.380544\n",
            "epoch 1100/5000   error=0.380538\n",
            "epoch 1110/5000   error=0.380532\n",
            "epoch 1120/5000   error=0.380526\n",
            "epoch 1130/5000   error=0.380520\n",
            "epoch 1140/5000   error=0.380513\n",
            "epoch 1150/5000   error=0.380507\n",
            "epoch 1160/5000   error=0.380500\n",
            "epoch 1170/5000   error=0.380493\n",
            "epoch 1180/5000   error=0.380486\n",
            "epoch 1190/5000   error=0.380479\n",
            "epoch 1200/5000   error=0.380472\n",
            "epoch 1210/5000   error=0.380465\n",
            "epoch 1220/5000   error=0.380457\n",
            "epoch 1230/5000   error=0.380450\n",
            "epoch 1240/5000   error=0.380442\n",
            "epoch 1250/5000   error=0.380434\n",
            "epoch 1260/5000   error=0.380426\n",
            "epoch 1270/5000   error=0.380418\n",
            "epoch 1280/5000   error=0.380410\n",
            "epoch 1290/5000   error=0.380401\n",
            "epoch 1300/5000   error=0.380393\n",
            "epoch 1310/5000   error=0.380384\n",
            "epoch 1320/5000   error=0.380375\n",
            "epoch 1330/5000   error=0.380365\n",
            "epoch 1340/5000   error=0.380356\n",
            "epoch 1350/5000   error=0.380346\n",
            "epoch 1360/5000   error=0.380337\n",
            "epoch 1370/5000   error=0.380327\n",
            "epoch 1380/5000   error=0.380316\n",
            "epoch 1390/5000   error=0.380306\n",
            "epoch 1400/5000   error=0.380295\n",
            "epoch 1410/5000   error=0.380284\n",
            "epoch 1420/5000   error=0.380273\n",
            "epoch 1430/5000   error=0.380262\n",
            "epoch 1440/5000   error=0.380250\n",
            "epoch 1450/5000   error=0.380238\n",
            "epoch 1460/5000   error=0.380226\n",
            "epoch 1470/5000   error=0.380213\n",
            "epoch 1480/5000   error=0.380200\n",
            "epoch 1490/5000   error=0.380187\n",
            "epoch 1500/5000   error=0.380174\n",
            "epoch 1510/5000   error=0.380160\n",
            "epoch 1520/5000   error=0.380145\n",
            "epoch 1530/5000   error=0.380131\n",
            "epoch 1540/5000   error=0.380116\n",
            "epoch 1550/5000   error=0.380100\n",
            "epoch 1560/5000   error=0.380085\n",
            "epoch 1570/5000   error=0.380068\n",
            "epoch 1580/5000   error=0.380052\n",
            "epoch 1590/5000   error=0.380034\n",
            "epoch 1600/5000   error=0.380017\n",
            "epoch 1610/5000   error=0.379999\n",
            "epoch 1620/5000   error=0.379980\n",
            "epoch 1630/5000   error=0.379961\n",
            "epoch 1640/5000   error=0.379941\n",
            "epoch 1650/5000   error=0.379920\n",
            "epoch 1660/5000   error=0.379899\n",
            "epoch 1670/5000   error=0.379877\n",
            "epoch 1680/5000   error=0.379855\n",
            "epoch 1690/5000   error=0.379831\n",
            "epoch 1700/5000   error=0.379807\n",
            "epoch 1710/5000   error=0.379782\n",
            "epoch 1720/5000   error=0.379757\n",
            "epoch 1730/5000   error=0.379730\n",
            "epoch 1740/5000   error=0.379702\n",
            "epoch 1750/5000   error=0.379674\n",
            "epoch 1760/5000   error=0.379644\n",
            "epoch 1770/5000   error=0.379613\n",
            "epoch 1780/5000   error=0.379581\n",
            "epoch 1790/5000   error=0.379547\n",
            "epoch 1800/5000   error=0.379513\n",
            "epoch 1810/5000   error=0.379477\n",
            "epoch 1820/5000   error=0.379439\n",
            "epoch 1830/5000   error=0.379400\n",
            "epoch 1840/5000   error=0.379359\n",
            "epoch 1850/5000   error=0.379316\n",
            "epoch 1860/5000   error=0.379271\n",
            "epoch 1870/5000   error=0.379224\n",
            "epoch 1880/5000   error=0.379174\n",
            "epoch 1890/5000   error=0.379123\n",
            "epoch 1900/5000   error=0.379068\n",
            "epoch 1910/5000   error=0.379011\n",
            "epoch 1920/5000   error=0.378951\n",
            "epoch 1930/5000   error=0.378887\n",
            "epoch 1940/5000   error=0.378820\n",
            "epoch 1950/5000   error=0.378749\n",
            "epoch 1960/5000   error=0.378674\n",
            "epoch 1970/5000   error=0.378594\n",
            "epoch 1980/5000   error=0.378509\n",
            "epoch 1990/5000   error=0.378418\n",
            "epoch 2000/5000   error=0.378321\n",
            "epoch 2010/5000   error=0.378217\n",
            "epoch 2020/5000   error=0.378106\n",
            "epoch 2030/5000   error=0.377986\n",
            "epoch 2040/5000   error=0.377857\n",
            "epoch 2050/5000   error=0.377717\n",
            "epoch 2060/5000   error=0.377566\n",
            "epoch 2070/5000   error=0.377400\n",
            "epoch 2080/5000   error=0.377220\n",
            "epoch 2090/5000   error=0.377022\n",
            "epoch 2100/5000   error=0.376803\n",
            "epoch 2110/5000   error=0.376561\n",
            "epoch 2120/5000   error=0.376292\n",
            "epoch 2130/5000   error=0.375990\n",
            "epoch 2140/5000   error=0.375649\n",
            "epoch 2150/5000   error=0.375262\n",
            "epoch 2160/5000   error=0.374819\n",
            "epoch 2170/5000   error=0.374305\n",
            "epoch 2180/5000   error=0.373704\n",
            "epoch 2190/5000   error=0.372992\n",
            "epoch 2200/5000   error=0.372136\n",
            "epoch 2210/5000   error=0.371087\n",
            "epoch 2220/5000   error=0.369774\n",
            "epoch 2230/5000   error=0.368087\n",
            "epoch 2240/5000   error=0.365847\n",
            "epoch 2250/5000   error=0.362746\n",
            "epoch 2260/5000   error=0.358208\n",
            "epoch 2270/5000   error=0.351059\n",
            "epoch 2280/5000   error=0.338633\n",
            "epoch 2290/5000   error=0.314495\n",
            "epoch 2300/5000   error=0.269141\n",
            "epoch 2310/5000   error=0.229456\n",
            "epoch 2320/5000   error=0.222254\n",
            "epoch 2330/5000   error=0.221867\n",
            "epoch 2340/5000   error=0.221857\n",
            "epoch 2350/5000   error=0.221858\n",
            "epoch 2360/5000   error=0.221858\n",
            "epoch 2370/5000   error=0.221858\n",
            "epoch 2380/5000   error=0.221858\n",
            "epoch 2390/5000   error=0.221857\n",
            "epoch 2400/5000   error=0.221857\n",
            "epoch 2410/5000   error=0.221857\n",
            "epoch 2420/5000   error=0.221857\n",
            "epoch 2430/5000   error=0.221856\n",
            "epoch 2440/5000   error=0.221856\n",
            "epoch 2450/5000   error=0.221856\n",
            "epoch 2460/5000   error=0.221856\n",
            "epoch 2470/5000   error=0.221855\n",
            "epoch 2480/5000   error=0.221855\n",
            "epoch 2490/5000   error=0.221855\n",
            "epoch 2500/5000   error=0.221854\n",
            "epoch 2510/5000   error=0.221854\n",
            "epoch 2520/5000   error=0.221854\n",
            "epoch 2530/5000   error=0.221853\n",
            "epoch 2540/5000   error=0.221853\n",
            "epoch 2550/5000   error=0.221853\n",
            "epoch 2560/5000   error=0.221852\n",
            "epoch 2570/5000   error=0.221852\n",
            "epoch 2580/5000   error=0.221852\n",
            "epoch 2590/5000   error=0.221851\n",
            "epoch 2600/5000   error=0.221851\n",
            "epoch 2610/5000   error=0.221851\n",
            "epoch 2620/5000   error=0.221850\n",
            "epoch 2630/5000   error=0.221850\n",
            "epoch 2640/5000   error=0.221850\n",
            "epoch 2650/5000   error=0.221849\n",
            "epoch 2660/5000   error=0.221849\n",
            "epoch 2670/5000   error=0.221849\n",
            "epoch 2680/5000   error=0.221848\n",
            "epoch 2690/5000   error=0.221848\n",
            "epoch 2700/5000   error=0.221848\n",
            "epoch 2710/5000   error=0.221847\n",
            "epoch 2720/5000   error=0.221847\n",
            "epoch 2730/5000   error=0.221846\n",
            "epoch 2740/5000   error=0.221846\n",
            "epoch 2750/5000   error=0.221846\n",
            "epoch 2760/5000   error=0.221845\n",
            "epoch 2770/5000   error=0.221845\n",
            "epoch 2780/5000   error=0.221845\n",
            "epoch 2790/5000   error=0.221844\n",
            "epoch 2800/5000   error=0.221844\n",
            "epoch 2810/5000   error=0.221843\n",
            "epoch 2820/5000   error=0.221843\n",
            "epoch 2830/5000   error=0.221842\n",
            "epoch 2840/5000   error=0.221842\n",
            "epoch 2850/5000   error=0.221842\n",
            "epoch 2860/5000   error=0.221841\n",
            "epoch 2870/5000   error=0.221841\n",
            "epoch 2880/5000   error=0.221840\n",
            "epoch 2890/5000   error=0.221840\n",
            "epoch 2900/5000   error=0.221839\n",
            "epoch 2910/5000   error=0.221839\n",
            "epoch 2920/5000   error=0.221838\n",
            "epoch 2930/5000   error=0.221838\n",
            "epoch 2940/5000   error=0.221837\n",
            "epoch 2950/5000   error=0.221837\n",
            "epoch 2960/5000   error=0.221836\n",
            "epoch 2970/5000   error=0.221836\n",
            "epoch 2980/5000   error=0.221835\n",
            "epoch 2990/5000   error=0.221835\n",
            "epoch 3000/5000   error=0.221834\n",
            "epoch 3010/5000   error=0.221834\n",
            "epoch 3020/5000   error=0.221833\n",
            "epoch 3030/5000   error=0.221833\n",
            "epoch 3040/5000   error=0.221832\n",
            "epoch 3050/5000   error=0.221832\n",
            "epoch 3060/5000   error=0.221831\n",
            "epoch 3070/5000   error=0.221830\n",
            "epoch 3080/5000   error=0.221830\n",
            "epoch 3090/5000   error=0.221829\n",
            "epoch 3100/5000   error=0.221829\n",
            "epoch 3110/5000   error=0.221828\n",
            "epoch 3120/5000   error=0.221827\n",
            "epoch 3130/5000   error=0.221827\n",
            "epoch 3140/5000   error=0.221826\n",
            "epoch 3150/5000   error=0.221825\n",
            "epoch 3160/5000   error=0.221825\n",
            "epoch 3170/5000   error=0.221824\n",
            "epoch 3180/5000   error=0.221823\n",
            "epoch 3190/5000   error=0.221823\n",
            "epoch 3200/5000   error=0.221822\n",
            "epoch 3210/5000   error=0.221821\n",
            "epoch 3220/5000   error=0.221821\n",
            "epoch 3230/5000   error=0.221820\n",
            "epoch 3240/5000   error=0.221819\n",
            "epoch 3250/5000   error=0.221819\n",
            "epoch 3260/5000   error=0.221818\n",
            "epoch 3270/5000   error=0.221817\n",
            "epoch 3280/5000   error=0.221816\n",
            "epoch 3290/5000   error=0.221815\n",
            "epoch 3300/5000   error=0.221815\n",
            "epoch 3310/5000   error=0.221814\n",
            "epoch 3320/5000   error=0.221813\n",
            "epoch 3330/5000   error=0.221812\n",
            "epoch 3340/5000   error=0.221811\n",
            "epoch 3350/5000   error=0.221810\n",
            "epoch 3360/5000   error=0.221810\n",
            "epoch 3370/5000   error=0.221809\n",
            "epoch 3380/5000   error=0.221808\n",
            "epoch 3390/5000   error=0.221807\n",
            "epoch 3400/5000   error=0.221806\n",
            "epoch 3410/5000   error=0.221805\n",
            "epoch 3420/5000   error=0.221804\n",
            "epoch 3430/5000   error=0.221803\n",
            "epoch 3440/5000   error=0.221802\n",
            "epoch 3450/5000   error=0.221801\n",
            "epoch 3460/5000   error=0.221800\n",
            "epoch 3470/5000   error=0.221799\n",
            "epoch 3480/5000   error=0.221798\n",
            "epoch 3490/5000   error=0.221797\n",
            "epoch 3500/5000   error=0.221795\n",
            "epoch 3510/5000   error=0.221794\n",
            "epoch 3520/5000   error=0.221793\n",
            "epoch 3530/5000   error=0.221792\n",
            "epoch 3540/5000   error=0.221791\n",
            "epoch 3550/5000   error=0.221790\n",
            "epoch 3560/5000   error=0.221788\n",
            "epoch 3570/5000   error=0.221787\n",
            "epoch 3580/5000   error=0.221786\n",
            "epoch 3590/5000   error=0.221784\n",
            "epoch 3600/5000   error=0.221783\n",
            "epoch 3610/5000   error=0.221782\n",
            "epoch 3620/5000   error=0.221780\n",
            "epoch 3630/5000   error=0.221779\n",
            "epoch 3640/5000   error=0.221777\n",
            "epoch 3650/5000   error=0.221776\n",
            "epoch 3660/5000   error=0.221774\n",
            "epoch 3670/5000   error=0.221773\n",
            "epoch 3680/5000   error=0.221771\n",
            "epoch 3690/5000   error=0.221770\n",
            "epoch 3700/5000   error=0.221768\n",
            "epoch 3710/5000   error=0.221766\n",
            "epoch 3720/5000   error=0.221765\n",
            "epoch 3730/5000   error=0.221763\n",
            "epoch 3740/5000   error=0.221761\n",
            "epoch 3750/5000   error=0.221759\n",
            "epoch 3760/5000   error=0.221757\n",
            "epoch 3770/5000   error=0.221755\n",
            "epoch 3780/5000   error=0.221753\n",
            "epoch 3790/5000   error=0.221751\n",
            "epoch 3800/5000   error=0.221749\n",
            "epoch 3810/5000   error=0.221747\n",
            "epoch 3820/5000   error=0.221745\n",
            "epoch 3830/5000   error=0.221743\n",
            "epoch 3840/5000   error=0.221740\n",
            "epoch 3850/5000   error=0.221738\n",
            "epoch 3860/5000   error=0.221736\n",
            "epoch 3870/5000   error=0.221733\n",
            "epoch 3880/5000   error=0.221731\n",
            "epoch 3890/5000   error=0.221728\n",
            "epoch 3900/5000   error=0.221725\n",
            "epoch 3910/5000   error=0.221723\n",
            "epoch 3920/5000   error=0.221720\n",
            "epoch 3930/5000   error=0.221717\n",
            "epoch 3940/5000   error=0.221714\n",
            "epoch 3950/5000   error=0.221711\n",
            "epoch 3960/5000   error=0.221708\n",
            "epoch 3970/5000   error=0.221705\n",
            "epoch 3980/5000   error=0.221701\n",
            "epoch 3990/5000   error=0.221698\n",
            "epoch 4000/5000   error=0.221695\n",
            "epoch 4010/5000   error=0.221691\n",
            "epoch 4020/5000   error=0.221687\n",
            "epoch 4030/5000   error=0.221683\n",
            "epoch 4040/5000   error=0.221679\n",
            "epoch 4050/5000   error=0.221675\n",
            "epoch 4060/5000   error=0.221671\n",
            "epoch 4070/5000   error=0.221667\n",
            "epoch 4080/5000   error=0.221662\n",
            "epoch 4090/5000   error=0.221658\n",
            "epoch 4100/5000   error=0.221653\n",
            "epoch 4110/5000   error=0.221648\n",
            "epoch 4120/5000   error=0.221643\n",
            "epoch 4130/5000   error=0.221637\n",
            "epoch 4140/5000   error=0.221632\n",
            "epoch 4150/5000   error=0.221626\n",
            "epoch 4160/5000   error=0.221620\n",
            "epoch 4170/5000   error=0.221614\n",
            "epoch 4180/5000   error=0.221608\n",
            "epoch 4190/5000   error=0.221601\n",
            "epoch 4200/5000   error=0.221594\n",
            "epoch 4210/5000   error=0.221587\n",
            "epoch 4220/5000   error=0.221580\n",
            "epoch 4230/5000   error=0.221572\n",
            "epoch 4240/5000   error=0.221564\n",
            "epoch 4250/5000   error=0.221556\n",
            "epoch 4260/5000   error=0.221547\n",
            "epoch 4270/5000   error=0.221538\n",
            "epoch 4280/5000   error=0.221528\n",
            "epoch 4290/5000   error=0.221518\n",
            "epoch 4300/5000   error=0.221508\n",
            "epoch 4310/5000   error=0.221497\n",
            "epoch 4320/5000   error=0.221485\n",
            "epoch 4330/5000   error=0.221473\n",
            "epoch 4340/5000   error=0.221460\n",
            "epoch 4350/5000   error=0.221447\n",
            "epoch 4360/5000   error=0.221433\n",
            "epoch 4370/5000   error=0.221418\n",
            "epoch 4380/5000   error=0.221403\n",
            "epoch 4390/5000   error=0.221386\n",
            "epoch 4400/5000   error=0.221369\n",
            "epoch 4410/5000   error=0.221350\n",
            "epoch 4420/5000   error=0.221331\n",
            "epoch 4430/5000   error=0.221310\n",
            "epoch 4440/5000   error=0.221288\n",
            "epoch 4450/5000   error=0.221264\n",
            "epoch 4460/5000   error=0.221239\n",
            "epoch 4470/5000   error=0.221213\n",
            "epoch 4480/5000   error=0.221184\n",
            "epoch 4490/5000   error=0.221153\n",
            "epoch 4500/5000   error=0.221120\n",
            "epoch 4510/5000   error=0.221084\n",
            "epoch 4520/5000   error=0.221045\n",
            "epoch 4530/5000   error=0.221003\n",
            "epoch 4540/5000   error=0.220957\n",
            "epoch 4550/5000   error=0.220908\n",
            "epoch 4560/5000   error=0.220853\n",
            "epoch 4570/5000   error=0.220793\n",
            "epoch 4580/5000   error=0.220727\n",
            "epoch 4590/5000   error=0.220653\n",
            "epoch 4600/5000   error=0.220571\n",
            "epoch 4610/5000   error=0.220480\n",
            "epoch 4620/5000   error=0.220377\n",
            "epoch 4630/5000   error=0.220260\n",
            "epoch 4640/5000   error=0.220126\n",
            "epoch 4650/5000   error=0.219973\n",
            "epoch 4660/5000   error=0.219796\n",
            "epoch 4670/5000   error=0.219589\n",
            "epoch 4680/5000   error=0.219345\n",
            "epoch 4690/5000   error=0.219055\n",
            "epoch 4700/5000   error=0.218706\n",
            "epoch 4710/5000   error=0.218283\n",
            "epoch 4720/5000   error=0.217765\n",
            "epoch 4730/5000   error=0.217123\n",
            "epoch 4740/5000   error=0.216323\n",
            "epoch 4750/5000   error=0.215323\n",
            "epoch 4760/5000   error=0.214075\n",
            "epoch 4770/5000   error=0.212535\n",
            "epoch 4780/5000   error=0.210675\n",
            "epoch 4790/5000   error=0.208495\n",
            "epoch 4800/5000   error=0.206017\n",
            "epoch 4810/5000   error=0.203265\n",
            "epoch 4820/5000   error=0.200236\n",
            "epoch 4830/5000   error=0.196900\n",
            "epoch 4840/5000   error=0.193225\n",
            "epoch 4850/5000   error=0.189199\n",
            "epoch 4860/5000   error=0.184847\n",
            "epoch 4870/5000   error=0.180237\n",
            "epoch 4880/5000   error=0.175480\n",
            "epoch 4890/5000   error=0.170713\n",
            "epoch 4900/5000   error=0.166081\n",
            "epoch 4910/5000   error=0.161715\n",
            "epoch 4920/5000   error=0.157714\n",
            "epoch 4930/5000   error=0.154136\n",
            "epoch 4940/5000   error=0.151000\n",
            "epoch 4950/5000   error=0.148293\n",
            "epoch 4960/5000   error=0.145981\n",
            "epoch 4970/5000   error=0.144017\n",
            "epoch 4980/5000   error=0.142353\n",
            "epoch 4990/5000   error=0.140939\n",
            "epoch 5000/5000   error=0.139731\n"
          ]
        }
      ],
      "source": [
        "network1.use(mse, mseDer)\n",
        "\n",
        "network1.fit(x_train ,y_train, epochs=5000, learning_rate=0.0005)"
      ]
    },
    {
      "cell_type": "code",
      "source": [
        "x_test"
      ],
      "metadata": {
        "colab": {
          "base_uri": "https://localhost:8080/"
        },
        "id": "qtygNFtJAsJj",
        "outputId": "8dd812e5-323a-4223-97c5-c2bca1a24aff"
      },
      "execution_count": 334,
      "outputs": [
        {
          "output_type": "execute_result",
          "data": {
            "text/plain": [
              "array([[6.3, 2.5, 4.9, 1.5],\n",
              "       [6.8, 3. , 5.5, 2.1],\n",
              "       [6.4, 2.8, 5.6, 2.2],\n",
              "       [5.6, 3. , 4.1, 1.3],\n",
              "       [4.9, 3.6, 1.4, 0.1],\n",
              "       [6. , 3. , 4.8, 1.8],\n",
              "       [6.3, 2.3, 4.4, 1.3],\n",
              "       [4.4, 3.2, 1.3, 0.2],\n",
              "       [4.4, 2.9, 1.4, 0.2],\n",
              "       [5.5, 2.6, 4.4, 1.2],\n",
              "       [6.9, 3.1, 5.1, 2.3],\n",
              "       [5.5, 4.2, 1.4, 0.2],\n",
              "       [5.2, 2.7, 3.9, 1.4],\n",
              "       [6.5, 3. , 5.5, 1.8],\n",
              "       [7.7, 3. , 6.1, 2.3],\n",
              "       [6.5, 3. , 5.8, 2.2],\n",
              "       [5.5, 3.5, 1.3, 0.2],\n",
              "       [4.3, 3. , 1.1, 0.1],\n",
              "       [6.1, 2.9, 4.7, 1.4],\n",
              "       [4.8, 3. , 1.4, 0.3],\n",
              "       [5.2, 3.4, 1.4, 0.2],\n",
              "       [6.3, 2.8, 5.1, 1.5],\n",
              "       [4.8, 3.4, 1.9, 0.2],\n",
              "       [6.1, 3. , 4.9, 1.8],\n",
              "       [5.1, 3.8, 1.6, 0.2],\n",
              "       [5.4, 3.4, 1.7, 0.2],\n",
              "       [5.4, 3.4, 1.5, 0.4],\n",
              "       [5.6, 2.8, 4.9, 2. ],\n",
              "       [7.7, 3.8, 6.7, 2.2],\n",
              "       [5. , 3.6, 1.4, 0.2]])"
            ]
          },
          "metadata": {},
          "execution_count": 334
        }
      ]
    },
    {
      "cell_type": "code",
      "source": [
        "out = network1.predict(x_test)\n",
        "out=[x[0] for x in out]"
      ],
      "metadata": {
        "id": "3Y1g4TM7gK4y"
      },
      "execution_count": 335,
      "outputs": []
    },
    {
      "cell_type": "code",
      "source": [
        "out"
      ],
      "metadata": {
        "colab": {
          "base_uri": "https://localhost:8080/"
        },
        "id": "ihoP0nHkB_Cp",
        "outputId": "95eb7b45-59ed-47c5-f685-5a19c2bc56cc"
      },
      "execution_count": 336,
      "outputs": [
        {
          "output_type": "execute_result",
          "data": {
            "text/plain": [
              "[array([0.18301342, 0.38488205, 0.48226518]),\n",
              " array([-0.00172952,  0.41032279,  0.65210075]),\n",
              " array([-0.07639578,  0.42033712,  0.70655149]),\n",
              " array([0.14733855, 0.38992516, 0.51946369]),\n",
              " array([ 0.62793219,  0.30619936, -0.2192452 ]),\n",
              " array([0.00399594, 0.40955235, 0.64762146]),\n",
              " array([0.36299249, 0.35765806, 0.25573629]),\n",
              " array([ 0.58695173,  0.31570387, -0.13408475]),\n",
              " array([ 0.59591022,  0.31369385, -0.15238974]),\n",
              " array([0.14165877, 0.3907207 , 0.52517547]),\n",
              " array([0.02236946, 0.40707519, 0.63293872]),\n",
              " array([ 0.64726268,  0.30141261, -0.26079048]),\n",
              " array([0.09308066, 0.39745262, 0.57179059]),\n",
              " array([0.00259455, 0.40974094, 0.64872208]),\n",
              " array([0.0471562 , 0.40372042, 0.61236344]),\n",
              " array([-0.09298982,  0.42256058,  0.71770667]),\n",
              " array([ 0.67476183,  0.29420557, -0.32133999]),\n",
              " array([ 0.61717611,  0.30877873, -0.19660367]),\n",
              " array([0.14831161, 0.38978846, 0.5184799 ]),\n",
              " array([ 0.62434413,  0.30705953, -0.21165064]),\n",
              " array([ 0.65319409,  0.29989856, -0.27373332]),\n",
              " array([0.11090601, 0.39499559, 0.55514468]),\n",
              " array([ 0.56854653,  0.31971643, -0.09711684]),\n",
              " array([0.0091305 , 0.40886081, 0.643566  ]),\n",
              " array([ 0.61220026,  0.30994055, -0.1860365 ]),\n",
              " array([ 0.6518343 ,  0.30024791, -0.27075461]),\n",
              " array([ 0.64609806,  0.3017047 , -0.25827162]),\n",
              " array([-0.08580658,  0.42159804,  0.71291786]),\n",
              " array([-0.07197301,  0.41974464,  0.70352262]),\n",
              " array([ 0.62713914,  0.30638949, -0.21755183])]"
            ]
          },
          "metadata": {},
          "execution_count": 336
        }
      ]
    },
    {
      "cell_type": "code",
      "source": [
        "res=np.argmax(out,axis=1)\n",
        "res"
      ],
      "metadata": {
        "colab": {
          "base_uri": "https://localhost:8080/"
        },
        "id": "g7wzZ-rH_9Kt",
        "outputId": "054b5a5e-0f08-4114-fc48-cafbd1c53cad"
      },
      "execution_count": 337,
      "outputs": [
        {
          "output_type": "execute_result",
          "data": {
            "text/plain": [
              "array([2, 2, 2, 2, 0, 2, 0, 0, 0, 2, 2, 0, 2, 2, 2, 2, 0, 0, 2, 0, 0, 2,\n",
              "       0, 2, 0, 0, 0, 2, 2, 0])"
            ]
          },
          "metadata": {},
          "execution_count": 337
        }
      ]
    },
    {
      "cell_type": "code",
      "source": [
        "y_test"
      ],
      "metadata": {
        "colab": {
          "base_uri": "https://localhost:8080/"
        },
        "id": "b8kXu3kWCQmk",
        "outputId": "15c745bd-9a7a-4212-defd-bebddd150ad7"
      },
      "execution_count": 338,
      "outputs": [
        {
          "output_type": "execute_result",
          "data": {
            "text/plain": [
              "array([1, 2, 2, 1, 0, 2, 1, 0, 0, 1, 2, 0, 1, 2, 2, 2, 0, 0, 1, 0, 0, 2,\n",
              "       0, 2, 0, 0, 0, 2, 2, 0])"
            ]
          },
          "metadata": {},
          "execution_count": 338
        }
      ]
    },
    {
      "cell_type": "code",
      "source": [
        "classAccuracy(y_test,res)"
      ],
      "metadata": {
        "colab": {
          "base_uri": "https://localhost:8080/"
        },
        "id": "21V0d9ZJCSXs",
        "outputId": "442cfc1f-8715-4209-96fd-55efb9159031"
      },
      "execution_count": 339,
      "outputs": [
        {
          "output_type": "execute_result",
          "data": {
            "text/plain": [
              "80.0"
            ]
          },
          "metadata": {},
          "execution_count": 339
        }
      ]
    },
    {
      "cell_type": "markdown",
      "source": [
        "# Regression Task"
      ],
      "metadata": {
        "id": "QXpKLhy-UmB1"
      }
    },
    {
      "cell_type": "code",
      "source": [
        "#loading the diabetes dataset\n",
        "db = datasets.load_diabetes()\n",
        "x, y = db.data, db.target"
      ],
      "metadata": {
        "id": "sNE90UavcyjZ"
      },
      "execution_count": 256,
      "outputs": []
    },
    {
      "cell_type": "code",
      "execution_count": 257,
      "metadata": {
        "id": "sFRxjH4QeH-l"
      },
      "outputs": [],
      "source": [
        "#SPlitting data for training and testing\n",
        "x_train,x_test,y_train,y_test=train_test_split(x,y,test_size=0.2,random_state=123)"
      ]
    },
    {
      "cell_type": "code",
      "execution_count": 258,
      "metadata": {
        "colab": {
          "base_uri": "https://localhost:8080/"
        },
        "outputId": "9dd5327c-b4b3-4448-8a96-73c6c9f94e2c",
        "id": "fJV58tcDeH-n"
      },
      "outputs": [
        {
          "output_type": "execute_result",
          "data": {
            "text/plain": [
              "array([170.,  77.,  49.,  66., 144., 113., 233., 162., 121.,  88., 302.,\n",
              "       128.,  52., 178.,  90., 164., 135., 103., 200., 178., 261.,  64.,\n",
              "        59.,  79.,  47., 107.,  39., 151., 104., 217., 232.,  55., 245.,\n",
              "       131.,  64., 222., 249., 128., 293., 138., 273., 158., 168., 103.,\n",
              "       140., 146., 277., 116., 233.,  94., 295., 191., 241., 154., 141.,\n",
              "       252., 198., 288., 101., 179., 129., 174.,  91.,  84., 177., 219.,\n",
              "        67., 113.,  70.,  53., 150.,  40., 258., 168., 283., 252.,  43.,\n",
              "        74.,  78., 209., 270.,  90.,  73., 310., 102., 115.,  85., 104.,\n",
              "        68., 101., 139.,  63.,  72.,  58., 131.,  71.,  98.,  88., 277.,\n",
              "       104., 167., 108., 111., 214., 135., 196., 189.,  77., 225.,  60.,\n",
              "        67., 292., 143., 281.,  25., 200.,  91., 263.,  95., 144., 232.,\n",
              "       109.,  51.,  64., 283., 259., 214.,  60., 111., 258.,  68., 174.,\n",
              "       118., 113., 306.,  70.,  78., 191., 220., 183., 124.,  44.,  63.,\n",
              "       114., 229.,  77., 168., 262.,  91.,  85., 129.,  94., 145., 242.,\n",
              "       259., 270., 141., 272., 142., 276.,  65., 235., 185., 245.,  71.,\n",
              "        72., 200., 160., 101., 131.,  83., 202., 121., 178., 217.,  86.,\n",
              "       280., 230., 246., 128.,  85.,  42.,  88., 104., 143., 180., 181.,\n",
              "        48.,  71., 122.,  52., 152., 151., 281.,  53.,  88., 274., 155.,\n",
              "       279., 129., 263., 257., 220.,  48.,  93., 128., 142., 152.,  51.,\n",
              "        63., 243.,  87., 190.,  72.,  71.,  69., 100., 136., 139., 163.,\n",
              "       196., 110., 200., 170., 303., 200., 317.,  42., 281., 172., 275.,\n",
              "       310.,  61., 346.,  65.,  89.,  97., 220., 190.,  55.,  81.,  83.,\n",
              "       166., 236., 116., 275., 275., 244.,  55.,  85., 118., 142., 118.,\n",
              "       134.,  74., 308., 252.,  47.,  50., 242., 198., 126., 281.,  97.,\n",
              "       206., 178.,  52., 253.,  90., 225.,  75.,  97., 264., 131., 144.,\n",
              "       202., 185., 221., 137.,  92., 268., 311., 187., 153., 202., 257.,\n",
              "       197., 197.,  57.,  48., 175.,  96.,  84., 127., 178.,  99., 102.,\n",
              "       147., 199.,  71., 192.,  49., 201., 268., 170., 332., 243., 179.,\n",
              "        49., 109.,  90., 107., 148.,  52.,  83., 182., 272., 237., 120.,\n",
              "        65., 132.,  90., 216., 141., 180., 124., 160., 155.,  94., 150.,\n",
              "        72.,  95., 181.,  59.,  77., 341., 111., 142.,  99., 297., 150.,\n",
              "       208.,  65.,  37.,  84., 134., 210., 144., 220.,  92., 242., 132.,\n",
              "       206.])"
            ]
          },
          "metadata": {},
          "execution_count": 258
        }
      ],
      "source": [
        "x_train\n",
        "y_train"
      ]
    },
    {
      "cell_type": "code",
      "execution_count": 259,
      "metadata": {
        "id": "U5UBYiSPeH-p"
      },
      "outputs": [],
      "source": [
        "network2 = Network()\n",
        "x1=x_train.shape[1]\n",
        "x2=x1*2\n",
        "network2.add(completeLayer(x1, x2))\n",
        "network2.add(activationFunction(relu, relu_der))\n",
        "network2.add(completeLayer(x2, 1))\n",
        "network2.add(activationFunction(linear, linear_der))\n"
      ]
    },
    {
      "cell_type": "code",
      "source": [
        "network2.use(mse, mseDer)\n",
        "\n",
        "network2.fit(x_train ,y_train, epochs=2000, learning_rate=0.0001)"
      ],
      "metadata": {
        "colab": {
          "base_uri": "https://localhost:8080/"
        },
        "id": "1UTM-NDIexvC",
        "outputId": "9dadc9fd-f19e-4791-b5a7-256dbd372fd1"
      },
      "execution_count": 263,
      "outputs": [
        {
          "output_type": "stream",
          "name": "stdout",
          "text": [
            "epoch 1/2000   error=2593.215550\n",
            "epoch 10/2000   error=2585.068773\n",
            "epoch 20/2000   error=2584.030870\n",
            "epoch 30/2000   error=2582.183406\n",
            "epoch 40/2000   error=2581.992855\n",
            "epoch 50/2000   error=2580.140516\n",
            "epoch 60/2000   error=2579.731850\n",
            "epoch 70/2000   error=2579.869824\n",
            "epoch 80/2000   error=2579.406875\n",
            "epoch 90/2000   error=2578.774139\n",
            "epoch 100/2000   error=2578.124666\n",
            "epoch 110/2000   error=2577.023827\n",
            "epoch 120/2000   error=2577.641202\n",
            "epoch 130/2000   error=2575.459268\n",
            "epoch 140/2000   error=2576.945679\n",
            "epoch 150/2000   error=2578.089902\n",
            "epoch 160/2000   error=2577.846628\n",
            "epoch 170/2000   error=2576.950619\n",
            "epoch 180/2000   error=2573.949111\n",
            "epoch 190/2000   error=2574.594181\n",
            "epoch 200/2000   error=2572.846671\n",
            "epoch 210/2000   error=2573.060157\n",
            "epoch 220/2000   error=2573.554423\n",
            "epoch 230/2000   error=2574.095705\n",
            "epoch 240/2000   error=2575.505535\n",
            "epoch 250/2000   error=2573.127460\n",
            "epoch 260/2000   error=2572.557954\n",
            "epoch 270/2000   error=2571.978037\n",
            "epoch 280/2000   error=2571.679412\n",
            "epoch 290/2000   error=2573.396515\n",
            "epoch 300/2000   error=2570.837997\n",
            "epoch 310/2000   error=2572.609089\n",
            "epoch 320/2000   error=2570.780159\n",
            "epoch 330/2000   error=2570.011030\n",
            "epoch 340/2000   error=2570.316551\n",
            "epoch 350/2000   error=2569.828664\n",
            "epoch 360/2000   error=2569.379258\n",
            "epoch 370/2000   error=2569.918128\n",
            "epoch 380/2000   error=2569.323857\n",
            "epoch 390/2000   error=2568.788773\n",
            "epoch 400/2000   error=2569.319419\n",
            "epoch 410/2000   error=2567.733657\n",
            "epoch 420/2000   error=2567.368579\n",
            "epoch 430/2000   error=2567.148672\n",
            "epoch 440/2000   error=2566.440125\n",
            "epoch 450/2000   error=2567.054116\n",
            "epoch 460/2000   error=2565.837837\n",
            "epoch 470/2000   error=2564.643954\n",
            "epoch 480/2000   error=2564.961476\n",
            "epoch 490/2000   error=2564.446497\n",
            "epoch 500/2000   error=2563.176998\n",
            "epoch 510/2000   error=2563.347029\n",
            "epoch 520/2000   error=2563.590581\n",
            "epoch 530/2000   error=2562.985041\n",
            "epoch 540/2000   error=2562.146187\n",
            "epoch 550/2000   error=2562.269391\n",
            "epoch 560/2000   error=2561.814992\n",
            "epoch 570/2000   error=2563.132911\n",
            "epoch 580/2000   error=2562.086682\n",
            "epoch 590/2000   error=2561.731208\n",
            "epoch 600/2000   error=2560.491307\n",
            "epoch 610/2000   error=2559.632443\n",
            "epoch 620/2000   error=2560.159660\n",
            "epoch 630/2000   error=2561.589034\n",
            "epoch 640/2000   error=2560.409260\n",
            "epoch 650/2000   error=2559.887805\n",
            "epoch 660/2000   error=2558.398501\n",
            "epoch 670/2000   error=2560.248588\n",
            "epoch 680/2000   error=2559.981163\n",
            "epoch 690/2000   error=2558.116103\n",
            "epoch 700/2000   error=2558.676651\n",
            "epoch 710/2000   error=2560.070523\n",
            "epoch 720/2000   error=2559.249293\n",
            "epoch 730/2000   error=2557.678972\n",
            "epoch 740/2000   error=2556.968845\n",
            "epoch 750/2000   error=2557.361790\n",
            "epoch 760/2000   error=2556.237002\n",
            "epoch 770/2000   error=2555.391581\n",
            "epoch 780/2000   error=2558.117862\n",
            "epoch 790/2000   error=2553.854984\n",
            "epoch 800/2000   error=2554.708813\n",
            "epoch 810/2000   error=2556.361275\n",
            "epoch 820/2000   error=2555.828057\n",
            "epoch 830/2000   error=2555.879448\n",
            "epoch 840/2000   error=2554.199325\n",
            "epoch 850/2000   error=2554.879045\n",
            "epoch 860/2000   error=2556.392399\n",
            "epoch 870/2000   error=2552.582294\n",
            "epoch 880/2000   error=2552.965466\n",
            "epoch 890/2000   error=2553.999339\n",
            "epoch 900/2000   error=2552.151735\n",
            "epoch 910/2000   error=2553.132610\n",
            "epoch 920/2000   error=2553.646614\n",
            "epoch 930/2000   error=2551.890548\n",
            "epoch 940/2000   error=2554.986849\n",
            "epoch 950/2000   error=2553.323186\n",
            "epoch 960/2000   error=2553.194721\n",
            "epoch 970/2000   error=2552.955763\n",
            "epoch 980/2000   error=2550.722224\n",
            "epoch 990/2000   error=2550.766303\n",
            "epoch 1000/2000   error=2551.440628\n",
            "epoch 1010/2000   error=2551.381559\n",
            "epoch 1020/2000   error=2551.255404\n",
            "epoch 1030/2000   error=2550.197355\n",
            "epoch 1040/2000   error=2549.627233\n",
            "epoch 1050/2000   error=2551.003107\n",
            "epoch 1060/2000   error=2552.252977\n",
            "epoch 1070/2000   error=2550.420207\n",
            "epoch 1080/2000   error=2551.077197\n",
            "epoch 1090/2000   error=2550.612099\n",
            "epoch 1100/2000   error=2549.508845\n",
            "epoch 1110/2000   error=2551.232972\n",
            "epoch 1120/2000   error=2549.133087\n",
            "epoch 1130/2000   error=2550.732784\n",
            "epoch 1140/2000   error=2551.137543\n",
            "epoch 1150/2000   error=2549.317556\n",
            "epoch 1160/2000   error=2548.444982\n",
            "epoch 1170/2000   error=2549.233281\n",
            "epoch 1180/2000   error=2549.972424\n",
            "epoch 1190/2000   error=2549.508608\n",
            "epoch 1200/2000   error=2548.872050\n",
            "epoch 1210/2000   error=2548.769930\n",
            "epoch 1220/2000   error=2548.880986\n",
            "epoch 1230/2000   error=2548.095103\n",
            "epoch 1240/2000   error=2548.412454\n",
            "epoch 1250/2000   error=2547.958671\n",
            "epoch 1260/2000   error=2549.130434\n",
            "epoch 1270/2000   error=2547.669847\n",
            "epoch 1280/2000   error=2548.806803\n",
            "epoch 1290/2000   error=2547.969462\n",
            "epoch 1300/2000   error=2547.965644\n",
            "epoch 1310/2000   error=2547.986322\n",
            "epoch 1320/2000   error=2546.143383\n",
            "epoch 1330/2000   error=2547.852800\n",
            "epoch 1340/2000   error=2546.759505\n",
            "epoch 1350/2000   error=2547.362529\n",
            "epoch 1360/2000   error=2546.958264\n",
            "epoch 1370/2000   error=2548.027836\n",
            "epoch 1380/2000   error=2546.037400\n",
            "epoch 1390/2000   error=2548.595855\n",
            "epoch 1400/2000   error=2547.943412\n",
            "epoch 1410/2000   error=2544.249789\n",
            "epoch 1420/2000   error=2544.075986\n",
            "epoch 1430/2000   error=2540.291697\n",
            "epoch 1440/2000   error=2538.778471\n",
            "epoch 1450/2000   error=2538.054879\n",
            "epoch 1460/2000   error=2538.352011\n",
            "epoch 1470/2000   error=2536.804805\n",
            "epoch 1480/2000   error=2535.811065\n",
            "epoch 1490/2000   error=2534.542548\n",
            "epoch 1500/2000   error=2533.308958\n",
            "epoch 1510/2000   error=2533.868694\n",
            "epoch 1520/2000   error=2532.859458\n",
            "epoch 1530/2000   error=2529.496110\n",
            "epoch 1540/2000   error=2529.897656\n",
            "epoch 1550/2000   error=2528.693980\n",
            "epoch 1560/2000   error=2529.758238\n",
            "epoch 1570/2000   error=2529.133743\n",
            "epoch 1580/2000   error=2525.455966\n",
            "epoch 1590/2000   error=2526.710739\n",
            "epoch 1600/2000   error=2526.945383\n",
            "epoch 1610/2000   error=2524.019769\n",
            "epoch 1620/2000   error=2526.466848\n",
            "epoch 1630/2000   error=2523.901512\n",
            "epoch 1640/2000   error=2523.371661\n",
            "epoch 1650/2000   error=2523.330496\n",
            "epoch 1660/2000   error=2522.583087\n",
            "epoch 1670/2000   error=2521.786191\n",
            "epoch 1680/2000   error=2523.062144\n",
            "epoch 1690/2000   error=2521.339525\n",
            "epoch 1700/2000   error=2522.177503\n",
            "epoch 1710/2000   error=2521.479614\n",
            "epoch 1720/2000   error=2520.789150\n",
            "epoch 1730/2000   error=2521.326018\n",
            "epoch 1740/2000   error=2518.649546\n",
            "epoch 1750/2000   error=2518.029526\n",
            "epoch 1760/2000   error=2515.960019\n",
            "epoch 1770/2000   error=2517.098600\n",
            "epoch 1780/2000   error=2511.651374\n",
            "epoch 1790/2000   error=2509.083062\n",
            "epoch 1800/2000   error=2510.140031\n",
            "epoch 1810/2000   error=2505.435971\n",
            "epoch 1820/2000   error=2502.839380\n",
            "epoch 1830/2000   error=2497.941401\n",
            "epoch 1840/2000   error=2493.151797\n",
            "epoch 1850/2000   error=2487.295336\n",
            "epoch 1860/2000   error=2483.571310\n",
            "epoch 1870/2000   error=2480.967478\n",
            "epoch 1880/2000   error=2479.118943\n",
            "epoch 1890/2000   error=2478.385288\n",
            "epoch 1900/2000   error=2476.331513\n",
            "epoch 1910/2000   error=2468.512213\n",
            "epoch 1920/2000   error=2468.028906\n",
            "epoch 1930/2000   error=2468.005832\n",
            "epoch 1940/2000   error=2469.143278\n",
            "epoch 1950/2000   error=2471.499242\n",
            "epoch 1960/2000   error=2468.550007\n",
            "epoch 1970/2000   error=2468.811374\n",
            "epoch 1980/2000   error=2467.669037\n",
            "epoch 1990/2000   error=2467.929301\n",
            "epoch 2000/2000   error=2466.274945\n"
          ]
        }
      ]
    },
    {
      "cell_type": "code",
      "execution_count": 264,
      "metadata": {
        "colab": {
          "base_uri": "https://localhost:8080/"
        },
        "id": "QCiXacoN92bR",
        "outputId": "cfa60fb7-4311-44eb-acd2-3ddc6e7d3ee8"
      },
      "outputs": [
        {
          "output_type": "stream",
          "name": "stdout",
          "text": [
            "[array([141.53651924]), array([103.91515197]), array([199.66457149]), array([146.44360385]), array([162.98055996]), array([159.94605977]), array([273.17201149]), array([101.72440513]), array([115.01097642]), array([113.93335237]), array([141.51252022]), array([170.98917301]), array([149.95128532]), array([175.90974391]), array([212.42078086]), array([170.49729931]), array([107.1215083]), array([140.43178118]), array([139.95313456]), array([230.9493396]), array([157.5935252]), array([251.41743769]), array([119.94736336]), array([60.2553187]), array([94.34941294]), array([169.04526002]), array([74.70387821]), array([96.72373069]), array([147.27410739]), array([161.06877833]), array([93.41353303]), array([223.33280547]), array([191.79636805]), array([221.60925912]), array([174.87387567]), array([65.19699978]), array([68.67209367]), array([112.25474103]), array([218.27341893]), array([81.74236011]), array([198.53604467]), array([69.8977308]), array([113.93465012]), array([120.44347312]), array([85.17244857]), array([218.07843096]), array([133.23136162]), array([88.12316772]), array([66.69561265]), array([219.71033344]), array([111.56147224]), array([102.22083674]), array([136.67523874]), array([209.08482365]), array([139.38641913]), array([175.27826258]), array([223.91355771]), array([176.79461016]), array([173.37422953]), array([161.45390912]), array([106.06704695]), array([118.81077846]), array([249.61341512]), array([173.47265463]), array([179.67575941]), array([49.71655696]), array([65.98446336]), array([146.25842199]), array([118.27312277]), array([71.93924189]), array([109.56531968]), array([53.22113119]), array([188.84947896]), array([175.35443534]), array([126.4125703]), array([161.44311119]), array([139.69369471]), array([130.52763056]), array([113.00255347]), array([84.43308967]), array([81.38273963]), array([128.88808367]), array([138.24930761]), array([224.26270006]), array([275.31238861]), array([170.48011904]), array([175.9406447]), array([66.20438946]), array([131.94674707])]\n"
          ]
        }
      ],
      "source": [
        "out = network2.predict(x_test)\n",
        "out=[x[0] for x in out]\n",
        "print(out)"
      ]
    },
    {
      "cell_type": "code",
      "source": [
        "mseRegression(y_test,out)"
      ],
      "metadata": {
        "colab": {
          "base_uri": "https://localhost:8080/"
        },
        "id": "IsGu4EPB6LlO",
        "outputId": "eeb649a6-781e-4794-a651-c3d6a34e7cc3"
      },
      "execution_count": 265,
      "outputs": [
        {
          "output_type": "execute_result",
          "data": {
            "text/plain": [
              "2660.406687785831"
            ]
          },
          "metadata": {},
          "execution_count": 265
        }
      ]
    },
    {
      "cell_type": "code",
      "source": [],
      "metadata": {
        "id": "qQpfWueMVhEA"
      },
      "execution_count": 30,
      "outputs": []
    }
  ],
  "metadata": {
    "colab": {
      "collapsed_sections": [],
      "provenance": [],
      "authorship_tag": "ABX9TyM6ru3oUiLNhuFb8YpLPxKr",
      "include_colab_link": true
    },
    "kernelspec": {
      "display_name": "Python 3",
      "name": "python3"
    },
    "language_info": {
      "name": "python"
    }
  },
  "nbformat": 4,
  "nbformat_minor": 0
}