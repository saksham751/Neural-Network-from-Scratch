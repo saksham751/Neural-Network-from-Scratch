{
  "cells": [
    {
      "cell_type": "markdown",
      "metadata": {
        "id": "view-in-github",
        "colab_type": "text"
      },
      "source": [
        "<a href=\"https://colab.research.google.com/github/saksham751/Neural-Network-from-Scratch/blob/main/neural.ipynb\" target=\"_parent\"><img src=\"https://colab.research.google.com/assets/colab-badge.svg\" alt=\"Open In Colab\"/></a>"
      ]
    },
    {
      "cell_type": "code",
      "execution_count": 152,
      "metadata": {
        "id": "ErPvb4A0QhTU"
      },
      "outputs": [],
      "source": [
        "import numpy as np\n",
        "import matplotlib.pyplot as plt\n",
        "from tensorflow.keras.datasets.mnist import load_data\n",
        "from sklearn import datasets\n",
        "from sklearn.model_selection import train_test_split\n",
        "from sklearn.metrics import mean_squared_error"
      ]
    },
    {
      "cell_type": "code",
      "execution_count": 153,
      "metadata": {
        "id": "H9-BcHrPB1hq"
      },
      "outputs": [],
      "source": [
        "class Layer:\n",
        "    def __init__(self):\n",
        "        self.input = None\n",
        "        self.output = None\n",
        "    def forward_propagation(self, input):\n",
        "        raise NotImplementedError\n",
        "    def backward_propagation(self, output_error, learning_rate):\n",
        "        raise NotImplementedError"
      ]
    },
    {
      "cell_type": "code",
      "execution_count": 154,
      "metadata": {
        "id": "79sacV9gD6nF"
      },
      "outputs": [],
      "source": [
        "class complateLayer(Layer):\n",
        "  \n",
        "    def __init__(self, input_size, output_size):\n",
        "        self.weights = np.random.rand(input_size, output_size)\n",
        "        self.bias = np.random.rand(1, output_size)\n",
        "\n",
        "    def forward_propagation(self, input_data):\n",
        "        self.input = input_data\n",
        "        self.output = np.dot(self.input, self.weights) + self.bias\n",
        "        return self.output\n",
        "\n",
        "    def backward_propagation(self, output_error, learning_rate):\n",
        "        #print(output_error.shape, self.weights.T.shape)\n",
        "        #print(self.input.T.shape, output_error.shape)\n",
        "        input_error = np.dot(output_error, self.weights.T)\n",
        "        weights_error = np.dot(self.input.T.reshape(self.input.T.shape[0],1), output_error)\n",
        "        \n",
        "        self.weights -= learning_rate * weights_error\n",
        "        self.bias = self.bias-learning_rate * output_error\n",
        "        return input_error"
      ]
    },
    {
      "cell_type": "code",
      "execution_count": 155,
      "metadata": {
        "id": "IHcNHZu4D9nv"
      },
      "outputs": [],
      "source": [
        "\n",
        "class activationFunction(Layer):\n",
        "    def __init__(self, activation, activationDer):\n",
        "        self.activation = activation\n",
        "        self.activationDer = activationDer\n",
        "\n",
        "    def forward_propagation(self, input_data):\n",
        "        self.input = input_data\n",
        "        self.output = self.activation(self.input)\n",
        "        return self.output\n",
        "\n",
        "    def backward_propagation(self, output_error, learning_rate):\n",
        "        return self.activationDer(self.input) * output_error"
      ]
    },
    {
      "cell_type": "code",
      "execution_count": 156,
      "metadata": {
        "id": "AMAXWGhoEBLy"
      },
      "outputs": [],
      "source": [
        "    def sig(x):\n",
        "      return 1/(1 + np.exp(-x))\n",
        "\n",
        "    def sig_der(x):\n",
        "      return sig(x)*(1-sig(x))\n",
        "  \n",
        "    def tanh(x):\n",
        "      return np.tanh(x)\n",
        "\n",
        "    def tanh_prime(x):\n",
        "      return 1-np.tanh(x)**2\n",
        "\n",
        "    def relu(x):\n",
        "      return np.maximum(x, 0)\n",
        "\n",
        "    def relu_der(x):\n",
        "      return 1. * (x > 0)\n",
        "\n",
        "    def linear(x):\n",
        "      return x\n",
        "\n",
        "    def linear_der(x):\n",
        "      return 1\n",
        "\n",
        "    "
      ]
    },
    {
      "cell_type": "code",
      "execution_count": 157,
      "metadata": {
        "id": "N0UGvByZEBVd"
      },
      "outputs": [],
      "source": [
        "\n",
        "def mse(y_true, y_pred):\n",
        "    return np.mean(np.power(y_true-y_pred, 2));\n",
        "\n",
        "def mseDer(y_true, y_pred):\n",
        "    return 2*(y_pred-y_true)/y_true.size;"
      ]
    },
    {
      "cell_type": "code",
      "execution_count": 158,
      "metadata": {
        "id": "fC2OB3KEEDzt"
      },
      "outputs": [],
      "source": [
        "class Network:\n",
        "    def __init__(self):\n",
        "        self.layers = []\n",
        "        self.loss = None\n",
        "        self.loss_prime = None\n",
        "\n",
        "    def add(self, layer):\n",
        "        self.layers.append(layer)\n",
        "\n",
        "    def use(self, loss, loss_prime):\n",
        "        self.loss = loss\n",
        "        self.loss_prime = loss_prime\n",
        "\n",
        "    def predict(self, input_data):\n",
        "\n",
        "        samples = len(input_data)\n",
        "        result = []\n",
        "        for i in range(samples):\n",
        "\n",
        "            output = input_data[i]\n",
        "            for layer in self.layers:\n",
        "                output = layer.forward_propagation(output)\n",
        "            result.append(output)\n",
        "\n",
        "        return result\n",
        "\n",
        "    def fit(self, x_train, y_train, epochs, learning_rate):\n",
        "\n",
        "        samples = len(x_train)\n",
        "        for i in range(epochs):\n",
        "            err = 0\n",
        "            for j in range(samples):\n",
        "  \n",
        "                output = x_train[j]\n",
        "                \n",
        "                for layer in self.layers:\n",
        "                    output = layer.forward_propagation(output)\n",
        "                err += self.loss(y_train[j], output)\n",
        "\n",
        "                error = self.loss_prime(y_train[j], output)\n",
        "                #error.reshape(784,1)\n",
        "                for layer in reversed(self.layers):\n",
        "                    error = layer.backward_propagation(error, learning_rate)\n",
        "                #print('error=%f'%(err/j))\n",
        "\n",
        "            err /= samples\n",
        "            print('epoch %d/%d   error=%f' % (i+1, epochs, err))"
      ]
    },
    {
      "cell_type": "code",
      "source": [
        "def classAccuracy( y_test,res):\n",
        "  cor=0\n",
        "  for x,y in zip(y_test,res):\n",
        "    cor+=x==y\n",
        "  acc=cor/len(res)*100\n",
        "  return acc"
      ],
      "metadata": {
        "id": "2EovPnwhC2S0"
      },
      "execution_count": 159,
      "outputs": []
    },
    {
      "cell_type": "code",
      "source": [
        "def mseRegression(y_test,res):\n",
        "  errors = mean_squared_error(y_test, res)\n",
        "  return errors"
      ],
      "metadata": {
        "id": "AAJFysS9Drxx"
      },
      "execution_count": 160,
      "outputs": []
    },
    {
      "cell_type": "code",
      "execution_count": 161,
      "metadata": {
        "id": "ihyEQaVix9Pc"
      },
      "outputs": [],
      "source": [
        "#(x_train, y_train), (x_test, y_test)= load_data( path=\"mnist.npz\" )\n",
        "iris = datasets.load_iris()\n",
        "x, y = iris.data, iris.target"
      ]
    },
    {
      "cell_type": "code",
      "execution_count": 162,
      "metadata": {
        "id": "cAfqk4XrdP1L"
      },
      "outputs": [],
      "source": [
        "x_train,x_test,y_train,y_test=train_test_split(x,y,test_size=0.2,random_state=123)"
      ]
    },
    {
      "cell_type": "code",
      "execution_count": 163,
      "metadata": {
        "colab": {
          "base_uri": "https://localhost:8080/"
        },
        "id": "mi73INFYmEYQ",
        "outputId": "a961f211-e03d-421e-81c5-cfbc0a01a4d3"
      },
      "outputs": [
        {
          "output_type": "execute_result",
          "data": {
            "text/plain": [
              "array([2, 2, 0, 0, 1, 1, 2, 0, 0, 1, 1, 0, 2, 2, 2, 2, 2, 1, 0, 0, 2, 0,\n",
              "       0, 1, 1, 1, 1, 2, 1, 2, 0, 2, 1, 0, 0, 2, 1, 2, 2, 0, 1, 1, 2, 0,\n",
              "       2, 1, 1, 0, 2, 2, 0, 0, 1, 1, 2, 0, 0, 1, 0, 1, 2, 0, 2, 0, 0, 1,\n",
              "       0, 0, 1, 2, 1, 1, 1, 0, 0, 1, 2, 0, 0, 1, 1, 1, 2, 1, 1, 1, 2, 0,\n",
              "       0, 1, 2, 2, 2, 2, 0, 1, 0, 1, 1, 0, 1, 2, 1, 2, 2, 0, 1, 0, 2, 2,\n",
              "       1, 1, 2, 2, 1, 0, 1, 1, 2, 2])"
            ]
          },
          "metadata": {},
          "execution_count": 163
        }
      ],
      "source": [
        "x_train.shape[1]\n",
        "classes=np.unique(y_train).size\n",
        "y_train"
      ]
    },
    {
      "cell_type": "code",
      "execution_count": 164,
      "metadata": {
        "colab": {
          "base_uri": "https://localhost:8080/"
        },
        "id": "DjuCKQ6boaXu",
        "outputId": "da6f5a55-ee6c-4df3-93a3-c8e30622ad09"
      },
      "outputs": [
        {
          "output_type": "execute_result",
          "data": {
            "text/plain": [
              "(120, 3)"
            ]
          },
          "metadata": {},
          "execution_count": 164
        }
      ],
      "source": [
        "from keras.utils import np_utils\n",
        "y_train = np_utils.to_categorical(y_train)\n",
        "y_train.shape"
      ]
    },
    {
      "cell_type": "code",
      "execution_count": 165,
      "metadata": {
        "id": "ULweqQov0yGs"
      },
      "outputs": [],
      "source": [
        "network1 = Network()\n",
        "x1=x_train.shape[1]\n",
        "x2=4\n",
        "network1.add(complateLayer(x1, x2))\n",
        "network1.add(activationFunction(tanh, tanh_prime))\n",
        "network1.add(complateLayer(x2, classes))\n",
        "network1.add(activationFunction(tanh, tanh_prime))\n"
      ]
    },
    {
      "cell_type": "code",
      "execution_count": 166,
      "metadata": {
        "id": "vv9FrBm8SldN"
      },
      "outputs": [],
      "source": [
        "# x_train.reshape(x_train.shape[0],1,784)\n",
        "# x_new2=x_train.reshape(x_train.shape[0],1,784)\n",
        "# x_new=np.delete(x_new2,np.s_[0:50000],axis=0)\n",
        "# x_new.shape"
      ]
    },
    {
      "cell_type": "code",
      "execution_count": 167,
      "metadata": {
        "id": "lEvcPSJETAiT"
      },
      "outputs": [],
      "source": [
        "# y_new2=y_train.reshape(y_train.shape[0],1)\n",
        "# y_new=np.delete(y_new2,np.s_[0:50000],axis=0)\n",
        "# y_new.shape\n"
      ]
    },
    {
      "cell_type": "code",
      "source": [
        "x_train.shape"
      ],
      "metadata": {
        "colab": {
          "base_uri": "https://localhost:8080/"
        },
        "id": "c9uqgj6kZwQ6",
        "outputId": "43531622-790d-4d90-dce7-abd2b761a87c"
      },
      "execution_count": 168,
      "outputs": [
        {
          "output_type": "execute_result",
          "data": {
            "text/plain": [
              "(120, 4)"
            ]
          },
          "metadata": {},
          "execution_count": 168
        }
      ]
    },
    {
      "cell_type": "code",
      "execution_count": 169,
      "metadata": {
        "colab": {
          "base_uri": "https://localhost:8080/"
        },
        "id": "YKEf5Ze890J_",
        "outputId": "7e1a793f-d2b6-4f60-eac8-b9338a67fff2"
      },
      "outputs": [
        {
          "output_type": "stream",
          "name": "stdout",
          "text": [
            "epoch 1/100   error=0.586298\n",
            "epoch 2/100   error=0.579855\n",
            "epoch 3/100   error=0.572782\n",
            "epoch 4/100   error=0.565164\n",
            "epoch 5/100   error=0.557183\n",
            "epoch 6/100   error=0.549123\n",
            "epoch 7/100   error=0.541354\n",
            "epoch 8/100   error=0.534261\n",
            "epoch 9/100   error=0.528157\n",
            "epoch 10/100   error=0.523198\n",
            "epoch 11/100   error=0.519364\n",
            "epoch 12/100   error=0.516500\n",
            "epoch 13/100   error=0.514385\n",
            "epoch 14/100   error=0.512800\n",
            "epoch 15/100   error=0.511560\n",
            "epoch 16/100   error=0.510525\n",
            "epoch 17/100   error=0.509600\n",
            "epoch 18/100   error=0.508722\n",
            "epoch 19/100   error=0.507847\n",
            "epoch 20/100   error=0.506948\n",
            "epoch 21/100   error=0.506006\n",
            "epoch 22/100   error=0.505006\n",
            "epoch 23/100   error=0.503935\n",
            "epoch 24/100   error=0.502780\n",
            "epoch 25/100   error=0.501530\n",
            "epoch 26/100   error=0.500171\n",
            "epoch 27/100   error=0.498687\n",
            "epoch 28/100   error=0.497059\n",
            "epoch 29/100   error=0.495267\n",
            "epoch 30/100   error=0.493286\n",
            "epoch 31/100   error=0.491084\n",
            "epoch 32/100   error=0.488627\n",
            "epoch 33/100   error=0.485871\n",
            "epoch 34/100   error=0.482765\n",
            "epoch 35/100   error=0.479246\n",
            "epoch 36/100   error=0.475241\n",
            "epoch 37/100   error=0.470663\n",
            "epoch 38/100   error=0.465414\n",
            "epoch 39/100   error=0.459385\n",
            "epoch 40/100   error=0.452467\n",
            "epoch 41/100   error=0.444571\n",
            "epoch 42/100   error=0.435657\n",
            "epoch 43/100   error=0.425793\n",
            "epoch 44/100   error=0.415213\n",
            "epoch 45/100   error=0.404363\n",
            "epoch 46/100   error=0.393880\n",
            "epoch 47/100   error=0.384461\n",
            "epoch 48/100   error=0.376645\n",
            "epoch 49/100   error=0.370651\n",
            "epoch 50/100   error=0.366356\n",
            "epoch 51/100   error=0.363423\n",
            "epoch 52/100   error=0.361456\n",
            "epoch 53/100   error=0.360112\n",
            "epoch 54/100   error=0.359135\n",
            "epoch 55/100   error=0.358357\n",
            "epoch 56/100   error=0.357674\n",
            "epoch 57/100   error=0.357024\n",
            "epoch 58/100   error=0.356369\n",
            "epoch 59/100   error=0.355689\n",
            "epoch 60/100   error=0.354967\n",
            "epoch 61/100   error=0.354195\n",
            "epoch 62/100   error=0.353362\n",
            "epoch 63/100   error=0.352462\n",
            "epoch 64/100   error=0.351484\n",
            "epoch 65/100   error=0.350418\n",
            "epoch 66/100   error=0.349254\n",
            "epoch 67/100   error=0.347977\n",
            "epoch 68/100   error=0.346572\n",
            "epoch 69/100   error=0.345021\n",
            "epoch 70/100   error=0.343301\n",
            "epoch 71/100   error=0.341386\n",
            "epoch 72/100   error=0.339245\n",
            "epoch 73/100   error=0.336841\n",
            "epoch 74/100   error=0.334129\n",
            "epoch 75/100   error=0.331057\n",
            "epoch 76/100   error=0.327560\n",
            "epoch 77/100   error=0.323566\n",
            "epoch 78/100   error=0.318989\n",
            "epoch 79/100   error=0.313735\n",
            "epoch 80/100   error=0.307706\n",
            "epoch 81/100   error=0.300815\n",
            "epoch 82/100   error=0.293004\n",
            "epoch 83/100   error=0.284289\n",
            "epoch 84/100   error=0.274804\n",
            "epoch 85/100   error=0.264855\n",
            "epoch 86/100   error=0.254930\n",
            "epoch 87/100   error=0.245634\n",
            "epoch 88/100   error=0.237539\n",
            "epoch 89/100   error=0.231007\n",
            "epoch 90/100   error=0.226097\n",
            "epoch 91/100   error=0.222606\n",
            "epoch 92/100   error=0.220200\n",
            "epoch 93/100   error=0.218529\n",
            "epoch 94/100   error=0.217304\n",
            "epoch 95/100   error=0.216314\n",
            "epoch 96/100   error=0.215411\n",
            "epoch 97/100   error=0.214494\n",
            "epoch 98/100   error=0.213492\n",
            "epoch 99/100   error=0.212350\n",
            "epoch 100/100   error=0.211025\n"
          ]
        }
      ],
      "source": [
        "network1.use(mse, mseDer)\n",
        "\n",
        "network1.fit(x_train ,y_train, epochs=100, learning_rate=0.001)"
      ]
    },
    {
      "cell_type": "code",
      "source": [
        "x_test"
      ],
      "metadata": {
        "colab": {
          "base_uri": "https://localhost:8080/"
        },
        "id": "qtygNFtJAsJj",
        "outputId": "8577d912-bc6e-4229-9180-2ab0f48c78b9"
      },
      "execution_count": 171,
      "outputs": [
        {
          "output_type": "execute_result",
          "data": {
            "text/plain": [
              "array([[6.3, 2.5, 4.9, 1.5],\n",
              "       [6.8, 3. , 5.5, 2.1],\n",
              "       [6.4, 2.8, 5.6, 2.2],\n",
              "       [5.6, 3. , 4.1, 1.3],\n",
              "       [4.9, 3.6, 1.4, 0.1],\n",
              "       [6. , 3. , 4.8, 1.8],\n",
              "       [6.3, 2.3, 4.4, 1.3],\n",
              "       [4.4, 3.2, 1.3, 0.2],\n",
              "       [4.4, 2.9, 1.4, 0.2],\n",
              "       [5.5, 2.6, 4.4, 1.2],\n",
              "       [6.9, 3.1, 5.1, 2.3],\n",
              "       [5.5, 4.2, 1.4, 0.2],\n",
              "       [5.2, 2.7, 3.9, 1.4],\n",
              "       [6.5, 3. , 5.5, 1.8],\n",
              "       [7.7, 3. , 6.1, 2.3],\n",
              "       [6.5, 3. , 5.8, 2.2],\n",
              "       [5.5, 3.5, 1.3, 0.2],\n",
              "       [4.3, 3. , 1.1, 0.1],\n",
              "       [6.1, 2.9, 4.7, 1.4],\n",
              "       [4.8, 3. , 1.4, 0.3],\n",
              "       [5.2, 3.4, 1.4, 0.2],\n",
              "       [6.3, 2.8, 5.1, 1.5],\n",
              "       [4.8, 3.4, 1.9, 0.2],\n",
              "       [6.1, 3. , 4.9, 1.8],\n",
              "       [5.1, 3.8, 1.6, 0.2],\n",
              "       [5.4, 3.4, 1.7, 0.2],\n",
              "       [5.4, 3.4, 1.5, 0.4],\n",
              "       [5.6, 2.8, 4.9, 2. ],\n",
              "       [7.7, 3.8, 6.7, 2.2],\n",
              "       [5. , 3.6, 1.4, 0.2]])"
            ]
          },
          "metadata": {},
          "execution_count": 171
        }
      ]
    },
    {
      "cell_type": "code",
      "source": [
        "out = network1.predict(x_test)\n",
        "out=[x[0] for x in out]"
      ],
      "metadata": {
        "id": "3Y1g4TM7gK4y"
      },
      "execution_count": 172,
      "outputs": []
    },
    {
      "cell_type": "code",
      "source": [
        "out"
      ],
      "metadata": {
        "colab": {
          "base_uri": "https://localhost:8080/"
        },
        "id": "ihoP0nHkB_Cp",
        "outputId": "df54336f-c719-4ddc-e1e2-f4874be984c0"
      },
      "execution_count": 173,
      "outputs": [
        {
          "output_type": "execute_result",
          "data": {
            "text/plain": [
              "[array([0.30097139, 0.39599563, 0.35500636]),\n",
              " array([0.30101626, 0.39630336, 0.35526238]),\n",
              " array([0.30102105, 0.39633621, 0.35528972]),\n",
              " array([0.30083515, 0.39506095, 0.35422884]),\n",
              " array([0.28003292, 0.24466375, 0.2311292 ]),\n",
              " array([0.30098316, 0.39607638, 0.35507354]),\n",
              " array([0.30087978, 0.3953672 , 0.35448357]),\n",
              " array([0.28126372, 0.25395557, 0.23864264]),\n",
              " array([0.28352547, 0.27089297, 0.25236315]),\n",
              " array([0.30089562, 0.39547593, 0.35457402]),\n",
              " array([0.3010076 , 0.39624396, 0.35521296]),\n",
              " array([0.27905067, 0.23723012, 0.22512462]),\n",
              " array([0.30081505, 0.39492308, 0.35411417]),\n",
              " array([0.30101248, 0.39627741, 0.35524079]),\n",
              " array([0.30102567, 0.39636788, 0.35531607]),\n",
              " array([0.30102383, 0.39635523, 0.35530555]),\n",
              " array([0.27627839, 0.21615602, 0.20812958]),\n",
              " array([0.2746071 , 0.20343435, 0.19788767]),\n",
              " array([0.30094721, 0.3958298 , 0.3548684 ]),\n",
              " array([0.28342164, 0.27009569, 0.25171686]),\n",
              " array([0.28032644, 0.24687484, 0.23291646]),\n",
              " array([0.30098693, 0.3961022 , 0.35509502]),\n",
              " array([0.2909907 , 0.32567193, 0.29699102]),\n",
              " array([0.30098878, 0.39611491, 0.3551056 ]),\n",
              " array([0.28520439, 0.28332889, 0.2624591 ]),\n",
              " array([0.28611513, 0.29006142, 0.26793288]),\n",
              " array([0.28471244, 0.27968175, 0.25949637]),\n",
              " array([0.30100061, 0.39619606, 0.35517311]),\n",
              " array([0.30102961, 0.39639491, 0.35533856]),\n",
              " array([0.28118742, 0.25335638, 0.23815815])]"
            ]
          },
          "metadata": {},
          "execution_count": 173
        }
      ]
    },
    {
      "cell_type": "code",
      "source": [
        "res=np.argmax(out,axis=1)\n",
        "res"
      ],
      "metadata": {
        "colab": {
          "base_uri": "https://localhost:8080/"
        },
        "id": "g7wzZ-rH_9Kt",
        "outputId": "452d1a2a-aa09-4fce-df71-894e57f7cdfd"
      },
      "execution_count": 178,
      "outputs": [
        {
          "output_type": "execute_result",
          "data": {
            "text/plain": [
              "array([1, 1, 1, 1, 0, 1, 1, 0, 0, 1, 1, 0, 1, 1, 1, 1, 0, 0, 1, 0, 0, 1,\n",
              "       1, 1, 0, 1, 0, 1, 1, 0])"
            ]
          },
          "metadata": {},
          "execution_count": 178
        }
      ]
    },
    {
      "cell_type": "code",
      "source": [
        "y_test"
      ],
      "metadata": {
        "colab": {
          "base_uri": "https://localhost:8080/"
        },
        "id": "b8kXu3kWCQmk",
        "outputId": "987079d0-b41c-49ae-9ce1-825b20c9c103"
      },
      "execution_count": 179,
      "outputs": [
        {
          "output_type": "execute_result",
          "data": {
            "text/plain": [
              "array([1, 2, 2, 1, 0, 2, 1, 0, 0, 1, 2, 0, 1, 2, 2, 2, 0, 0, 1, 0, 0, 2,\n",
              "       0, 2, 0, 0, 0, 2, 2, 0])"
            ]
          },
          "metadata": {},
          "execution_count": 179
        }
      ]
    },
    {
      "cell_type": "code",
      "source": [
        "classAccuracy(y_test,res)"
      ],
      "metadata": {
        "colab": {
          "base_uri": "https://localhost:8080/"
        },
        "id": "21V0d9ZJCSXs",
        "outputId": "bb0a77b8-04c6-4d1e-847e-d7b16767165d"
      },
      "execution_count": 180,
      "outputs": [
        {
          "output_type": "execute_result",
          "data": {
            "text/plain": [
              "56.666666666666664"
            ]
          },
          "metadata": {},
          "execution_count": 180
        }
      ]
    },
    {
      "cell_type": "code",
      "execution_count": 100,
      "metadata": {
        "colab": {
          "base_uri": "https://localhost:8080/"
        },
        "id": "n7u4ts5CBf93",
        "outputId": "0c0f8088-7402-45f9-f670-b8ca74f8d2ff"
      },
      "outputs": [
        {
          "output_type": "execute_result",
          "data": {
            "text/plain": [
              "(120, 4)"
            ]
          },
          "metadata": {},
          "execution_count": 100
        }
      ],
      "source": [
        "x_train.shape"
      ]
    },
    {
      "cell_type": "code",
      "source": [
        "db = datasets.load_diabetes()\n",
        "x, y = db.data, db.target"
      ],
      "metadata": {
        "id": "sNE90UavcyjZ"
      },
      "execution_count": 101,
      "outputs": []
    },
    {
      "cell_type": "code",
      "execution_count": 102,
      "metadata": {
        "id": "sFRxjH4QeH-l"
      },
      "outputs": [],
      "source": [
        "x_train,x_test,y_train,y_test=train_test_split(x,y,test_size=0.2,random_state=123)"
      ]
    },
    {
      "cell_type": "code",
      "execution_count": 103,
      "metadata": {
        "colab": {
          "base_uri": "https://localhost:8080/"
        },
        "outputId": "583c5d6f-45f1-4b1d-ddc1-64614f2cd8b9",
        "id": "fJV58tcDeH-n"
      },
      "outputs": [
        {
          "output_type": "execute_result",
          "data": {
            "text/plain": [
              "array([170.,  77.,  49.,  66., 144., 113., 233., 162., 121.,  88., 302.,\n",
              "       128.,  52., 178.,  90., 164., 135., 103., 200., 178., 261.,  64.,\n",
              "        59.,  79.,  47., 107.,  39., 151., 104., 217., 232.,  55., 245.,\n",
              "       131.,  64., 222., 249., 128., 293., 138., 273., 158., 168., 103.,\n",
              "       140., 146., 277., 116., 233.,  94., 295., 191., 241., 154., 141.,\n",
              "       252., 198., 288., 101., 179., 129., 174.,  91.,  84., 177., 219.,\n",
              "        67., 113.,  70.,  53., 150.,  40., 258., 168., 283., 252.,  43.,\n",
              "        74.,  78., 209., 270.,  90.,  73., 310., 102., 115.,  85., 104.,\n",
              "        68., 101., 139.,  63.,  72.,  58., 131.,  71.,  98.,  88., 277.,\n",
              "       104., 167., 108., 111., 214., 135., 196., 189.,  77., 225.,  60.,\n",
              "        67., 292., 143., 281.,  25., 200.,  91., 263.,  95., 144., 232.,\n",
              "       109.,  51.,  64., 283., 259., 214.,  60., 111., 258.,  68., 174.,\n",
              "       118., 113., 306.,  70.,  78., 191., 220., 183., 124.,  44.,  63.,\n",
              "       114., 229.,  77., 168., 262.,  91.,  85., 129.,  94., 145., 242.,\n",
              "       259., 270., 141., 272., 142., 276.,  65., 235., 185., 245.,  71.,\n",
              "        72., 200., 160., 101., 131.,  83., 202., 121., 178., 217.,  86.,\n",
              "       280., 230., 246., 128.,  85.,  42.,  88., 104., 143., 180., 181.,\n",
              "        48.,  71., 122.,  52., 152., 151., 281.,  53.,  88., 274., 155.,\n",
              "       279., 129., 263., 257., 220.,  48.,  93., 128., 142., 152.,  51.,\n",
              "        63., 243.,  87., 190.,  72.,  71.,  69., 100., 136., 139., 163.,\n",
              "       196., 110., 200., 170., 303., 200., 317.,  42., 281., 172., 275.,\n",
              "       310.,  61., 346.,  65.,  89.,  97., 220., 190.,  55.,  81.,  83.,\n",
              "       166., 236., 116., 275., 275., 244.,  55.,  85., 118., 142., 118.,\n",
              "       134.,  74., 308., 252.,  47.,  50., 242., 198., 126., 281.,  97.,\n",
              "       206., 178.,  52., 253.,  90., 225.,  75.,  97., 264., 131., 144.,\n",
              "       202., 185., 221., 137.,  92., 268., 311., 187., 153., 202., 257.,\n",
              "       197., 197.,  57.,  48., 175.,  96.,  84., 127., 178.,  99., 102.,\n",
              "       147., 199.,  71., 192.,  49., 201., 268., 170., 332., 243., 179.,\n",
              "        49., 109.,  90., 107., 148.,  52.,  83., 182., 272., 237., 120.,\n",
              "        65., 132.,  90., 216., 141., 180., 124., 160., 155.,  94., 150.,\n",
              "        72.,  95., 181.,  59.,  77., 341., 111., 142.,  99., 297., 150.,\n",
              "       208.,  65.,  37.,  84., 134., 210., 144., 220.,  92., 242., 132.,\n",
              "       206.])"
            ]
          },
          "metadata": {},
          "execution_count": 103
        }
      ],
      "source": [
        "x_train\n",
        "y_train"
      ]
    },
    {
      "cell_type": "code",
      "execution_count": 104,
      "metadata": {
        "id": "gLQBuRIpeH-o"
      },
      "outputs": [],
      "source": [
        "# from keras.utils import np_utils\n",
        "# y_train = np_utils.to_categorical(y_train)\n",
        "# y_train.shape"
      ]
    },
    {
      "cell_type": "code",
      "execution_count": 105,
      "metadata": {
        "colab": {
          "base_uri": "https://localhost:8080/"
        },
        "outputId": "b53082a7-9fa4-428f-be32-105f8766a47f",
        "id": "IUdWC2uPeH-p"
      },
      "outputs": [
        {
          "output_type": "execute_result",
          "data": {
            "text/plain": [
              "array([170.,  77.,  49.,  66., 144., 113., 233., 162., 121.,  88., 302.,\n",
              "       128.,  52., 178.,  90., 164., 135., 103., 200., 178., 261.,  64.,\n",
              "        59.,  79.,  47., 107.,  39., 151., 104., 217., 232.,  55., 245.,\n",
              "       131.,  64., 222., 249., 128., 293., 138., 273., 158., 168., 103.,\n",
              "       140., 146., 277., 116., 233.,  94., 295., 191., 241., 154., 141.,\n",
              "       252., 198., 288., 101., 179., 129., 174.,  91.,  84., 177., 219.,\n",
              "        67., 113.,  70.,  53., 150.,  40., 258., 168., 283., 252.,  43.,\n",
              "        74.,  78., 209., 270.,  90.,  73., 310., 102., 115.,  85., 104.,\n",
              "        68., 101., 139.,  63.,  72.,  58., 131.,  71.,  98.,  88., 277.,\n",
              "       104., 167., 108., 111., 214., 135., 196., 189.,  77., 225.,  60.,\n",
              "        67., 292., 143., 281.,  25., 200.,  91., 263.,  95., 144., 232.,\n",
              "       109.,  51.,  64., 283., 259., 214.,  60., 111., 258.,  68., 174.,\n",
              "       118., 113., 306.,  70.,  78., 191., 220., 183., 124.,  44.,  63.,\n",
              "       114., 229.,  77., 168., 262.,  91.,  85., 129.,  94., 145., 242.,\n",
              "       259., 270., 141., 272., 142., 276.,  65., 235., 185., 245.,  71.,\n",
              "        72., 200., 160., 101., 131.,  83., 202., 121., 178., 217.,  86.,\n",
              "       280., 230., 246., 128.,  85.,  42.,  88., 104., 143., 180., 181.,\n",
              "        48.,  71., 122.,  52., 152., 151., 281.,  53.,  88., 274., 155.,\n",
              "       279., 129., 263., 257., 220.,  48.,  93., 128., 142., 152.,  51.,\n",
              "        63., 243.,  87., 190.,  72.,  71.,  69., 100., 136., 139., 163.,\n",
              "       196., 110., 200., 170., 303., 200., 317.,  42., 281., 172., 275.,\n",
              "       310.,  61., 346.,  65.,  89.,  97., 220., 190.,  55.,  81.,  83.,\n",
              "       166., 236., 116., 275., 275., 244.,  55.,  85., 118., 142., 118.,\n",
              "       134.,  74., 308., 252.,  47.,  50., 242., 198., 126., 281.,  97.,\n",
              "       206., 178.,  52., 253.,  90., 225.,  75.,  97., 264., 131., 144.,\n",
              "       202., 185., 221., 137.,  92., 268., 311., 187., 153., 202., 257.,\n",
              "       197., 197.,  57.,  48., 175.,  96.,  84., 127., 178.,  99., 102.,\n",
              "       147., 199.,  71., 192.,  49., 201., 268., 170., 332., 243., 179.,\n",
              "        49., 109.,  90., 107., 148.,  52.,  83., 182., 272., 237., 120.,\n",
              "        65., 132.,  90., 216., 141., 180., 124., 160., 155.,  94., 150.,\n",
              "        72.,  95., 181.,  59.,  77., 341., 111., 142.,  99., 297., 150.,\n",
              "       208.,  65.,  37.,  84., 134., 210., 144., 220.,  92., 242., 132.,\n",
              "       206.])"
            ]
          },
          "metadata": {},
          "execution_count": 105
        }
      ],
      "source": [
        "y_train"
      ]
    },
    {
      "cell_type": "code",
      "execution_count": 106,
      "metadata": {
        "id": "U5UBYiSPeH-p"
      },
      "outputs": [],
      "source": [
        "network1 = Network()\n",
        "x1=x_train.shape[1]\n",
        "x2=x1*2\n",
        "network1.add(complateLayer(x1, x2))\n",
        "network1.add(activationFunction(relu, relu_der))\n",
        "network1.add(complateLayer(x2, 1))\n",
        "network1.add(activationFunction(linear, linear_der))\n"
      ]
    },
    {
      "cell_type": "code",
      "source": [
        "network1.use(mse, mseDer)\n",
        "\n",
        "network1.fit(x_train ,y_train, epochs=50, learning_rate=0.001)"
      ],
      "metadata": {
        "colab": {
          "base_uri": "https://localhost:8080/"
        },
        "id": "1UTM-NDIexvC",
        "outputId": "0d2ac8fc-5307-4d88-996a-f2983ad44a1f"
      },
      "execution_count": 107,
      "outputs": [
        {
          "output_type": "stream",
          "name": "stdout",
          "text": [
            "epoch 1/50   error=6578.015440\n",
            "epoch 2/50   error=5277.579121\n",
            "epoch 3/50   error=4899.264598\n",
            "epoch 4/50   error=4711.458328\n",
            "epoch 5/50   error=4596.292207\n",
            "epoch 6/50   error=4511.709502\n",
            "epoch 7/50   error=4449.469504\n",
            "epoch 8/50   error=4396.270297\n",
            "epoch 9/50   error=4350.789106\n",
            "epoch 10/50   error=4289.574845\n",
            "epoch 11/50   error=4247.437310\n",
            "epoch 12/50   error=4240.904832\n",
            "epoch 13/50   error=4180.151938\n",
            "epoch 14/50   error=4161.253471\n",
            "epoch 15/50   error=4134.557650\n",
            "epoch 16/50   error=4087.840996\n",
            "epoch 17/50   error=4017.846022\n",
            "epoch 18/50   error=3993.240485\n",
            "epoch 19/50   error=3942.590554\n",
            "epoch 20/50   error=3892.723513\n",
            "epoch 21/50   error=3869.341538\n",
            "epoch 22/50   error=3828.308232\n",
            "epoch 23/50   error=3793.301857\n",
            "epoch 24/50   error=3762.493732\n",
            "epoch 25/50   error=3728.629726\n",
            "epoch 26/50   error=3703.562468\n",
            "epoch 27/50   error=3677.821243\n",
            "epoch 28/50   error=3667.123457\n",
            "epoch 29/50   error=3646.895555\n",
            "epoch 30/50   error=3624.088102\n",
            "epoch 31/50   error=3599.375500\n",
            "epoch 32/50   error=3598.062270\n",
            "epoch 33/50   error=3571.714554\n",
            "epoch 34/50   error=3573.514342\n",
            "epoch 35/50   error=3570.122861\n",
            "epoch 36/50   error=3560.572571\n",
            "epoch 37/50   error=3554.136447\n",
            "epoch 38/50   error=3539.237012\n",
            "epoch 39/50   error=3528.094377\n",
            "epoch 40/50   error=3513.001380\n",
            "epoch 41/50   error=3515.233067\n",
            "epoch 42/50   error=3508.410188\n",
            "epoch 43/50   error=3510.814126\n",
            "epoch 44/50   error=3497.911637\n",
            "epoch 45/50   error=3498.500107\n",
            "epoch 46/50   error=3500.477591\n",
            "epoch 47/50   error=3491.620750\n",
            "epoch 48/50   error=3491.201732\n",
            "epoch 49/50   error=3508.762694\n",
            "epoch 50/50   error=3488.333974\n"
          ]
        }
      ]
    },
    {
      "cell_type": "code",
      "execution_count": 108,
      "metadata": {
        "colab": {
          "base_uri": "https://localhost:8080/"
        },
        "id": "QCiXacoN92bR",
        "outputId": "cd3d7fff-bcda-436a-cc8f-dff7b8e14f24"
      },
      "outputs": [
        {
          "output_type": "stream",
          "name": "stdout",
          "text": [
            "[array([[115.65783766]]), array([[111.376643]]), array([[166.16684308]]), array([[113.15381731]]), array([[118.04168146]]), array([[116.18441223]]), array([[197.36611222]]), array([[107.927114]]), array([[107.19869863]]), array([[106.28235947]]), array([[107.27219309]]), array([[131.13632358]]), array([[120.13300194]]), array([[149.77485926]]), array([[168.23321298]]), array([[126.47864508]]), array([[106.58006787]]), array([[108.16013386]]), array([[132.18837785]]), array([[146.62211493]]), array([[117.16770659]]), array([[178.14831313]]), array([[118.31010371]]), array([[106.28235947]]), array([[107.22788794]]), array([[139.80894663]]), array([[106.65898378]]), array([[106.28235947]]), array([[114.70926271]]), array([[125.62311839]]), array([[106.41657311]]), array([[178.78021484]]), array([[138.88826607]]), array([[160.23891048]]), array([[141.5258807]]), array([[106.28235947]]), array([[106.28235947]]), array([[106.28235947]]), array([[167.21407607]]), array([[106.28235947]]), array([[151.29474066]]), array([[106.28235947]]), array([[106.28235947]]), array([[107.77778699]]), array([[106.28235947]]), array([[168.02745832]]), array([[106.28235947]]), array([[106.28235947]]), array([[106.28235947]]), array([[163.76544653]]), array([[106.28235947]]), array([[107.45141824]]), array([[140.53936203]]), array([[153.87069026]]), array([[107.54449103]]), array([[140.71084795]]), array([[176.95941798]]), array([[134.94239799]]), array([[132.55298563]]), array([[130.55124431]]), array([[110.89123514]]), array([[107.24259272]]), array([[180.13789621]]), array([[152.14792971]]), array([[142.89407266]]), array([[106.28235947]]), array([[106.28235947]]), array([[124.35626203]]), array([[109.44785205]]), array([[106.28235947]]), array([[107.41830911]]), array([[106.28235947]]), array([[108.31715659]]), array([[139.5948844]]), array([[106.28235947]]), array([[125.5044883]]), array([[108.9586509]]), array([[113.45066017]]), array([[106.28235947]]), array([[106.28235947]]), array([[106.28235947]]), array([[120.85512035]]), array([[106.38250301]]), array([[166.34985842]]), array([[225.13592391]]), array([[130.54447132]]), array([[147.02272511]]), array([[106.28235947]]), array([[108.5188554]])]\n"
          ]
        }
      ],
      "source": [
        "out = network1.predict(x_test)\n",
        "print(out)"
      ]
    },
    {
      "cell_type": "code",
      "execution_count": 109,
      "metadata": {
        "id": "HrgHb91WFtkq",
        "colab": {
          "base_uri": "https://localhost:8080/"
        },
        "outputId": "f60801a2-5da4-49e3-e694-f9dc4da6f533"
      },
      "outputs": [
        {
          "output_type": "execute_result",
          "data": {
            "text/plain": [
              "array([185., 150., 246., 184., 110., 202., 336.,  69.,  69.,  87.,  66.,\n",
              "       164., 265., 198., 248., 171., 102., 182., 262., 233., 151., 275.,\n",
              "       230.,  39.,  42., 122.,  81.,  31., 156., 161.,  80., 215., 310.,\n",
              "       163., 265.,  84.,  54., 137., 248.,  72., 248.,  59.,  97.,  61.,\n",
              "        72., 296.,  55.,  75.,  53., 173., 158.,  96., 140., 186.,  93.,\n",
              "       123., 237., 138., 292.,  78., 182., 127., 321., 109., 212.,  45.,\n",
              "        96., 109.,  89.,  96.,  60.,  51., 200., 265.,  68.,  91., 172.,\n",
              "       115., 125.,  53.,  63., 259., 214., 195., 258., 235., 173.,  59.,\n",
              "       219.])"
            ]
          },
          "metadata": {},
          "execution_count": 109
        }
      ],
      "source": [
        "y_test"
      ]
    },
    {
      "cell_type": "code",
      "source": [],
      "metadata": {
        "id": "IsGu4EPB6LlO"
      },
      "execution_count": 109,
      "outputs": []
    }
  ],
  "metadata": {
    "colab": {
      "collapsed_sections": [],
      "provenance": [],
      "authorship_tag": "ABX9TyM+0H3sNfZ+GOybPm8rD53T",
      "include_colab_link": true
    },
    "kernelspec": {
      "display_name": "Python 3",
      "name": "python3"
    },
    "language_info": {
      "name": "python"
    }
  },
  "nbformat": 4,
  "nbformat_minor": 0
}