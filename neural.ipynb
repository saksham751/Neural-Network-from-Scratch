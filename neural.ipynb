{
  "cells": [
    {
      "cell_type": "markdown",
      "metadata": {
        "id": "view-in-github",
        "colab_type": "text"
      },
      "source": [
        "<a href=\"https://colab.research.google.com/github/saksham751/Neural-Network-from-Scratch/blob/main/neural.ipynb\" target=\"_parent\"><img src=\"https://colab.research.google.com/assets/colab-badge.svg\" alt=\"Open In Colab\"/></a>"
      ]
    },
    {
      "cell_type": "code",
      "execution_count": 1,
      "metadata": {
        "id": "ErPvb4A0QhTU"
      },
      "outputs": [],
      "source": [
        "import numpy as np\n",
        "import matplotlib.pyplot as plt\n",
        "from tensorflow.keras.datasets.mnist import load_data\n",
        "from sklearn import datasets\n",
        "from sklearn.model_selection import train_test_split"
      ]
    },
    {
      "cell_type": "code",
      "execution_count": 2,
      "metadata": {
        "id": "H9-BcHrPB1hq"
      },
      "outputs": [],
      "source": [
        "class Layer:\n",
        "    def __init__(self):\n",
        "        self.input = None\n",
        "        self.output = None\n",
        "    def forward_propagation(self, input):\n",
        "        raise NotImplementedError\n",
        "    def backward_propagation(self, output_error, learning_rate):\n",
        "        raise NotImplementedError"
      ]
    },
    {
      "cell_type": "code",
      "execution_count": 3,
      "metadata": {
        "id": "79sacV9gD6nF"
      },
      "outputs": [],
      "source": [
        "class complateLayer(Layer):\n",
        "  \n",
        "    def __init__(self, input_size, output_size):\n",
        "        self.weights = np.random.rand(input_size, output_size)\n",
        "        self.bias = np.random.rand(1, output_size)\n",
        "\n",
        "    def forward_propagation(self, input_data):\n",
        "        self.input = input_data\n",
        "        self.output = np.dot(self.input, self.weights) + self.bias\n",
        "        return self.output\n",
        "\n",
        "    def backward_propagation(self, output_error, learning_rate):\n",
        "        #print(output_error.shape, self.weights.T.shape)\n",
        "        #print(self.input.T.shape, output_error.shape)\n",
        "        input_error = np.dot(output_error, self.weights.T)\n",
        "        weights_error = np.dot(self.input.T.reshape(self.input.T.shape[0],1), output_error)\n",
        "        \n",
        "        self.weights -= learning_rate * weights_error\n",
        "        self.bias = self.bias-learning_rate * output_error\n",
        "        return input_error"
      ]
    },
    {
      "cell_type": "code",
      "execution_count": 4,
      "metadata": {
        "id": "IHcNHZu4D9nv"
      },
      "outputs": [],
      "source": [
        "\n",
        "class activationFunction(Layer):\n",
        "    def __init__(self, activation, activationDer):\n",
        "        self.activation = activation\n",
        "        self.activationDer = activationDer\n",
        "\n",
        "    def forward_propagation(self, input_data):\n",
        "        self.input = input_data\n",
        "        self.output = self.activation(self.input)\n",
        "        return self.output\n",
        "\n",
        "    def backward_propagation(self, output_error, learning_rate):\n",
        "        return self.activationDer(self.input) * output_error"
      ]
    },
    {
      "cell_type": "code",
      "execution_count": 5,
      "metadata": {
        "id": "AMAXWGhoEBLy"
      },
      "outputs": [],
      "source": [
        "    def sig(x):\n",
        "      return 1/(1 + np.exp(-x))\n",
        "\n",
        "    def sig_der(x):\n",
        "      return sig(x)*(1-sig(x))\n",
        "  \n",
        "    def tanh(x):\n",
        "      return np.tanh(x)\n",
        "\n",
        "    def tanh_prime(x):\n",
        "      return 1-np.tanh(x)**2\n",
        "\n",
        "    def relu(x):\n",
        "      return np.maximum(x, 0)\n",
        "\n",
        "    def relu_der(x):\n",
        "      return 1. * (x > 0)\n",
        "\n",
        "    def linear(x):\n",
        "      return x\n",
        "\n",
        "    def linear_der(x):\n",
        "      return 1\n",
        "\n",
        "    "
      ]
    },
    {
      "cell_type": "code",
      "execution_count": 6,
      "metadata": {
        "id": "N0UGvByZEBVd"
      },
      "outputs": [],
      "source": [
        "\n",
        "def mse(y_true, y_pred):\n",
        "    return np.mean(np.power(y_true-y_pred, 2));\n",
        "\n",
        "def mseDer(y_true, y_pred):\n",
        "    return 2*(y_pred-y_true)/y_true.size;"
      ]
    },
    {
      "cell_type": "code",
      "execution_count": 7,
      "metadata": {
        "id": "fC2OB3KEEDzt"
      },
      "outputs": [],
      "source": [
        "class Network:\n",
        "    def __init__(self):\n",
        "        self.layers = []\n",
        "        self.loss = None\n",
        "        self.loss_prime = None\n",
        "\n",
        "    def add(self, layer):\n",
        "        self.layers.append(layer)\n",
        "\n",
        "    def use(self, loss, loss_prime):\n",
        "        self.loss = loss\n",
        "        self.loss_prime = loss_prime\n",
        "\n",
        "    def predict(self, input_data):\n",
        "\n",
        "        samples = len(input_data)\n",
        "        result = []\n",
        "        for i in range(samples):\n",
        "\n",
        "            output = input_data[i]\n",
        "            for layer in self.layers:\n",
        "                output = layer.forward_propagation(output)\n",
        "            result.append(output)\n",
        "\n",
        "        return result\n",
        "\n",
        "    def fit(self, x_train, y_train, epochs, learning_rate):\n",
        "\n",
        "        samples = len(x_train)\n",
        "        for i in range(epochs):\n",
        "            err = 0\n",
        "            for j in range(samples):\n",
        "  \n",
        "                output = x_train[j]\n",
        "                \n",
        "                for layer in self.layers:\n",
        "                    output = layer.forward_propagation(output)\n",
        "                err += self.loss(y_train[j], output)\n",
        "\n",
        "                error = self.loss_prime(y_train[j], output)\n",
        "                #error.reshape(784,1)\n",
        "                for layer in reversed(self.layers):\n",
        "                    error = layer.backward_propagation(error, learning_rate)\n",
        "                #print('error=%f'%(err/j))\n",
        "\n",
        "            err /= samples\n",
        "            print('epoch %d/%d   error=%f' % (i+1, epochs, err))"
      ]
    },
    {
      "cell_type": "code",
      "execution_count": 8,
      "metadata": {
        "id": "ihyEQaVix9Pc"
      },
      "outputs": [],
      "source": [
        "#(x_train, y_train), (x_test, y_test)= load_data( path=\"mnist.npz\" )\n",
        "iris = datasets.load_iris()\n",
        "x, y = iris.data, iris.target"
      ]
    },
    {
      "cell_type": "code",
      "execution_count": 9,
      "metadata": {
        "id": "cAfqk4XrdP1L"
      },
      "outputs": [],
      "source": [
        "x_train,x_test,y_train,y_test=train_test_split(x,y,test_size=0.2,random_state=123)"
      ]
    },
    {
      "cell_type": "code",
      "execution_count": 10,
      "metadata": {
        "colab": {
          "base_uri": "https://localhost:8080/"
        },
        "id": "mi73INFYmEYQ",
        "outputId": "c129e082-a448-45a9-a304-3e72af404186"
      },
      "outputs": [
        {
          "output_type": "execute_result",
          "data": {
            "text/plain": [
              "array([2, 2, 0, 0, 1, 1, 2, 0, 0, 1, 1, 0, 2, 2, 2, 2, 2, 1, 0, 0, 2, 0,\n",
              "       0, 1, 1, 1, 1, 2, 1, 2, 0, 2, 1, 0, 0, 2, 1, 2, 2, 0, 1, 1, 2, 0,\n",
              "       2, 1, 1, 0, 2, 2, 0, 0, 1, 1, 2, 0, 0, 1, 0, 1, 2, 0, 2, 0, 0, 1,\n",
              "       0, 0, 1, 2, 1, 1, 1, 0, 0, 1, 2, 0, 0, 1, 1, 1, 2, 1, 1, 1, 2, 0,\n",
              "       0, 1, 2, 2, 2, 2, 0, 1, 0, 1, 1, 0, 1, 2, 1, 2, 2, 0, 1, 0, 2, 2,\n",
              "       1, 1, 2, 2, 1, 0, 1, 1, 2, 2])"
            ]
          },
          "metadata": {},
          "execution_count": 10
        }
      ],
      "source": [
        "x_train.shape[1]\n",
        "classes=np.unique(y_train).size\n",
        "y_train"
      ]
    },
    {
      "cell_type": "code",
      "execution_count": 11,
      "metadata": {
        "colab": {
          "base_uri": "https://localhost:8080/"
        },
        "id": "DjuCKQ6boaXu",
        "outputId": "ae9ef113-acb6-433d-fd51-eb2eda2e79cb"
      },
      "outputs": [
        {
          "output_type": "execute_result",
          "data": {
            "text/plain": [
              "(120, 3)"
            ]
          },
          "metadata": {},
          "execution_count": 11
        }
      ],
      "source": [
        "from keras.utils import np_utils\n",
        "y_train = np_utils.to_categorical(y_train)\n",
        "y_train.shape"
      ]
    },
    {
      "cell_type": "code",
      "execution_count": 12,
      "metadata": {
        "id": "xol5sA44w8KA",
        "colab": {
          "base_uri": "https://localhost:8080/"
        },
        "outputId": "06c6af04-2d70-480c-856a-02ac41b8f6c9"
      },
      "outputs": [
        {
          "output_type": "execute_result",
          "data": {
            "text/plain": [
              "array([[0., 0., 1.],\n",
              "       [0., 0., 1.],\n",
              "       [1., 0., 0.],\n",
              "       [1., 0., 0.],\n",
              "       [0., 1., 0.],\n",
              "       [0., 1., 0.],\n",
              "       [0., 0., 1.],\n",
              "       [1., 0., 0.],\n",
              "       [1., 0., 0.],\n",
              "       [0., 1., 0.],\n",
              "       [0., 1., 0.],\n",
              "       [1., 0., 0.],\n",
              "       [0., 0., 1.],\n",
              "       [0., 0., 1.],\n",
              "       [0., 0., 1.],\n",
              "       [0., 0., 1.],\n",
              "       [0., 0., 1.],\n",
              "       [0., 1., 0.],\n",
              "       [1., 0., 0.],\n",
              "       [1., 0., 0.],\n",
              "       [0., 0., 1.],\n",
              "       [1., 0., 0.],\n",
              "       [1., 0., 0.],\n",
              "       [0., 1., 0.],\n",
              "       [0., 1., 0.],\n",
              "       [0., 1., 0.],\n",
              "       [0., 1., 0.],\n",
              "       [0., 0., 1.],\n",
              "       [0., 1., 0.],\n",
              "       [0., 0., 1.],\n",
              "       [1., 0., 0.],\n",
              "       [0., 0., 1.],\n",
              "       [0., 1., 0.],\n",
              "       [1., 0., 0.],\n",
              "       [1., 0., 0.],\n",
              "       [0., 0., 1.],\n",
              "       [0., 1., 0.],\n",
              "       [0., 0., 1.],\n",
              "       [0., 0., 1.],\n",
              "       [1., 0., 0.],\n",
              "       [0., 1., 0.],\n",
              "       [0., 1., 0.],\n",
              "       [0., 0., 1.],\n",
              "       [1., 0., 0.],\n",
              "       [0., 0., 1.],\n",
              "       [0., 1., 0.],\n",
              "       [0., 1., 0.],\n",
              "       [1., 0., 0.],\n",
              "       [0., 0., 1.],\n",
              "       [0., 0., 1.],\n",
              "       [1., 0., 0.],\n",
              "       [1., 0., 0.],\n",
              "       [0., 1., 0.],\n",
              "       [0., 1., 0.],\n",
              "       [0., 0., 1.],\n",
              "       [1., 0., 0.],\n",
              "       [1., 0., 0.],\n",
              "       [0., 1., 0.],\n",
              "       [1., 0., 0.],\n",
              "       [0., 1., 0.],\n",
              "       [0., 0., 1.],\n",
              "       [1., 0., 0.],\n",
              "       [0., 0., 1.],\n",
              "       [1., 0., 0.],\n",
              "       [1., 0., 0.],\n",
              "       [0., 1., 0.],\n",
              "       [1., 0., 0.],\n",
              "       [1., 0., 0.],\n",
              "       [0., 1., 0.],\n",
              "       [0., 0., 1.],\n",
              "       [0., 1., 0.],\n",
              "       [0., 1., 0.],\n",
              "       [0., 1., 0.],\n",
              "       [1., 0., 0.],\n",
              "       [1., 0., 0.],\n",
              "       [0., 1., 0.],\n",
              "       [0., 0., 1.],\n",
              "       [1., 0., 0.],\n",
              "       [1., 0., 0.],\n",
              "       [0., 1., 0.],\n",
              "       [0., 1., 0.],\n",
              "       [0., 1., 0.],\n",
              "       [0., 0., 1.],\n",
              "       [0., 1., 0.],\n",
              "       [0., 1., 0.],\n",
              "       [0., 1., 0.],\n",
              "       [0., 0., 1.],\n",
              "       [1., 0., 0.],\n",
              "       [1., 0., 0.],\n",
              "       [0., 1., 0.],\n",
              "       [0., 0., 1.],\n",
              "       [0., 0., 1.],\n",
              "       [0., 0., 1.],\n",
              "       [0., 0., 1.],\n",
              "       [1., 0., 0.],\n",
              "       [0., 1., 0.],\n",
              "       [1., 0., 0.],\n",
              "       [0., 1., 0.],\n",
              "       [0., 1., 0.],\n",
              "       [1., 0., 0.],\n",
              "       [0., 1., 0.],\n",
              "       [0., 0., 1.],\n",
              "       [0., 1., 0.],\n",
              "       [0., 0., 1.],\n",
              "       [0., 0., 1.],\n",
              "       [1., 0., 0.],\n",
              "       [0., 1., 0.],\n",
              "       [1., 0., 0.],\n",
              "       [0., 0., 1.],\n",
              "       [0., 0., 1.],\n",
              "       [0., 1., 0.],\n",
              "       [0., 1., 0.],\n",
              "       [0., 0., 1.],\n",
              "       [0., 0., 1.],\n",
              "       [0., 1., 0.],\n",
              "       [1., 0., 0.],\n",
              "       [0., 1., 0.],\n",
              "       [0., 1., 0.],\n",
              "       [0., 0., 1.],\n",
              "       [0., 0., 1.]], dtype=float32)"
            ]
          },
          "metadata": {},
          "execution_count": 12
        }
      ],
      "source": [
        "y_train"
      ]
    },
    {
      "cell_type": "code",
      "execution_count": 13,
      "metadata": {
        "id": "ULweqQov0yGs"
      },
      "outputs": [],
      "source": [
        "network1 = Network()\n",
        "x1=x_train.shape[1]\n",
        "x2=4\n",
        "network1.add(complateLayer(x1, x2))\n",
        "network1.add(activationFunction(tanh, tanh_prime))\n",
        "network1.add(complateLayer(x2, classes))\n",
        "network1.add(activationFunction(tanh, tanh_prime))\n"
      ]
    },
    {
      "cell_type": "code",
      "execution_count": 14,
      "metadata": {
        "id": "vv9FrBm8SldN"
      },
      "outputs": [],
      "source": [
        "# x_train.reshape(x_train.shape[0],1,784)\n",
        "# x_new2=x_train.reshape(x_train.shape[0],1,784)\n",
        "# x_new=np.delete(x_new2,np.s_[0:50000],axis=0)\n",
        "# x_new.shape"
      ]
    },
    {
      "cell_type": "code",
      "execution_count": 15,
      "metadata": {
        "id": "lEvcPSJETAiT"
      },
      "outputs": [],
      "source": [
        "# y_new2=y_train.reshape(y_train.shape[0],1)\n",
        "# y_new=np.delete(y_new2,np.s_[0:50000],axis=0)\n",
        "# y_new.shape\n"
      ]
    },
    {
      "cell_type": "code",
      "source": [
        "x_train.shape"
      ],
      "metadata": {
        "colab": {
          "base_uri": "https://localhost:8080/"
        },
        "id": "c9uqgj6kZwQ6",
        "outputId": "41075514-6565-4ee6-9eab-2a3249c8e9c2"
      },
      "execution_count": 16,
      "outputs": [
        {
          "output_type": "execute_result",
          "data": {
            "text/plain": [
              "(120, 4)"
            ]
          },
          "metadata": {},
          "execution_count": 16
        }
      ]
    },
    {
      "cell_type": "code",
      "execution_count": 17,
      "metadata": {
        "colab": {
          "base_uri": "https://localhost:8080/"
        },
        "id": "YKEf5Ze890J_",
        "outputId": "b4c0164a-1d35-4d63-afc9-4a82aa7d70ba"
      },
      "outputs": [
        {
          "output_type": "stream",
          "name": "stdout",
          "text": [
            "epoch 1/50   error=0.645912\n",
            "epoch 2/50   error=0.643462\n",
            "epoch 3/50   error=0.640311\n",
            "epoch 4/50   error=0.636103\n",
            "epoch 5/50   error=0.630207\n",
            "epoch 6/50   error=0.621405\n",
            "epoch 7/50   error=0.607183\n",
            "epoch 8/50   error=0.582652\n",
            "epoch 9/50   error=0.544831\n",
            "epoch 10/50   error=0.511267\n",
            "epoch 11/50   error=0.492385\n",
            "epoch 12/50   error=0.469493\n",
            "epoch 13/50   error=0.427924\n",
            "epoch 14/50   error=0.384973\n",
            "epoch 15/50   error=0.373240\n",
            "epoch 16/50   error=0.372642\n",
            "epoch 17/50   error=0.372644\n",
            "epoch 18/50   error=0.372589\n",
            "epoch 19/50   error=0.372511\n",
            "epoch 20/50   error=0.372424\n",
            "epoch 21/50   error=0.372330\n",
            "epoch 22/50   error=0.372230\n",
            "epoch 23/50   error=0.372123\n",
            "epoch 24/50   error=0.372008\n",
            "epoch 25/50   error=0.371885\n",
            "epoch 26/50   error=0.371752\n",
            "epoch 27/50   error=0.371608\n",
            "epoch 28/50   error=0.371453\n",
            "epoch 29/50   error=0.371283\n",
            "epoch 30/50   error=0.371098\n",
            "epoch 31/50   error=0.370895\n",
            "epoch 32/50   error=0.370672\n",
            "epoch 33/50   error=0.370425\n",
            "epoch 34/50   error=0.370150\n",
            "epoch 35/50   error=0.369842\n",
            "epoch 36/50   error=0.369496\n",
            "epoch 37/50   error=0.369102\n",
            "epoch 38/50   error=0.368652\n",
            "epoch 39/50   error=0.368132\n",
            "epoch 40/50   error=0.367525\n",
            "epoch 41/50   error=0.366806\n",
            "epoch 42/50   error=0.365943\n",
            "epoch 43/50   error=0.364889\n",
            "epoch 44/50   error=0.363572\n",
            "epoch 45/50   error=0.361885\n",
            "epoch 46/50   error=0.359653\n",
            "epoch 47/50   error=0.356574\n",
            "epoch 48/50   error=0.352092\n",
            "epoch 49/50   error=0.345086\n",
            "epoch 50/50   error=0.333070\n"
          ]
        }
      ],
      "source": [
        "network1.use(mse, mseDer)\n",
        "\n",
        "network1.fit(x_train ,y_train, epochs=50, learning_rate=0.005)"
      ]
    },
    {
      "cell_type": "code",
      "source": [
        "out = network1.predict(x_test)\n",
        "print(out)"
      ],
      "metadata": {
        "colab": {
          "base_uri": "https://localhost:8080/"
        },
        "id": "3Y1g4TM7gK4y",
        "outputId": "bd4fd587-ee2e-4311-a80e-fb9d64ad2451"
      },
      "execution_count": 18,
      "outputs": [
        {
          "output_type": "stream",
          "name": "stdout",
          "text": [
            "[array([[0.28345328, 0.38599028, 0.87554577]]), array([[0.28345194, 0.38602281, 0.87554642]]), array([[0.28345189, 0.38602408, 0.87554645]]), array([[0.28345687, 0.38590418, 0.87554398]]), array([[0.28367226, 0.38034202, 0.87541821]]), array([[0.28345306, 0.38599571, 0.87554587]]), array([[0.28345516, 0.38594472, 0.87554486]]), array([[0.28369723, 0.37947749, 0.87538192]]), array([[0.28368327, 0.379961  , 0.8753944 ]]), array([[0.283456  , 0.38592574, 0.87554441]]), array([[0.28345209, 0.38601929, 0.87554635]]), array([[0.28363229, 0.38150863, 0.87545199]]), array([[0.28345827, 0.38587186, 0.87554321]]), array([[0.28345213, 0.38601824, 0.87554633]]), array([[0.2834516 , 0.38603113, 0.87554659]]), array([[0.28345178, 0.38602674, 0.8755465 ]]), array([[0.28366356, 0.38072278, 0.87543539]]), array([[0.28376762, 0.377052  , 0.87531062]]), array([[0.28345391, 0.38597514, 0.87554546]]), array([[0.28365693, 0.38082788, 0.87542773]]), array([[0.28365357, 0.38094474, 0.87543684]]), array([[0.28345289, 0.38599979, 0.87554596]]), array([[0.28358294, 0.38276073, 0.87547241]]), array([[0.28345287, 0.3860003 , 0.87554597]]), array([[0.28361411, 0.3819495 , 0.87545773]]), array([[0.28359771, 0.38240676, 0.87547027]]), array([[0.28360501, 0.38223121, 0.87546663]]), array([[0.2834528 , 0.38600227, 0.87554599]]), array([[0.2834515 , 0.38603362, 0.87554664]]), array([[0.28365507, 0.38085763, 0.875432  ]])]\n"
          ]
        }
      ]
    },
    {
      "cell_type": "code",
      "execution_count": 19,
      "metadata": {
        "colab": {
          "base_uri": "https://localhost:8080/"
        },
        "id": "n7u4ts5CBf93",
        "outputId": "e3a2f086-70a9-4445-cb8d-4e256e336d0d"
      },
      "outputs": [
        {
          "output_type": "execute_result",
          "data": {
            "text/plain": [
              "(120, 4)"
            ]
          },
          "metadata": {},
          "execution_count": 19
        }
      ],
      "source": [
        "x_train.shape"
      ]
    },
    {
      "cell_type": "code",
      "source": [
        "db = datasets.load_diabetes()\n",
        "x, y = db.data, db.target"
      ],
      "metadata": {
        "id": "sNE90UavcyjZ"
      },
      "execution_count": 20,
      "outputs": []
    },
    {
      "cell_type": "code",
      "execution_count": 21,
      "metadata": {
        "id": "sFRxjH4QeH-l"
      },
      "outputs": [],
      "source": [
        "x_train,x_test,y_train,y_test=train_test_split(x,y,test_size=0.2,random_state=123)"
      ]
    },
    {
      "cell_type": "code",
      "execution_count": 22,
      "metadata": {
        "colab": {
          "base_uri": "https://localhost:8080/"
        },
        "outputId": "c509537a-687c-4a9f-e42e-ce97a24a6637",
        "id": "fJV58tcDeH-n"
      },
      "outputs": [
        {
          "output_type": "execute_result",
          "data": {
            "text/plain": [
              "array([170.,  77.,  49.,  66., 144., 113., 233., 162., 121.,  88., 302.,\n",
              "       128.,  52., 178.,  90., 164., 135., 103., 200., 178., 261.,  64.,\n",
              "        59.,  79.,  47., 107.,  39., 151., 104., 217., 232.,  55., 245.,\n",
              "       131.,  64., 222., 249., 128., 293., 138., 273., 158., 168., 103.,\n",
              "       140., 146., 277., 116., 233.,  94., 295., 191., 241., 154., 141.,\n",
              "       252., 198., 288., 101., 179., 129., 174.,  91.,  84., 177., 219.,\n",
              "        67., 113.,  70.,  53., 150.,  40., 258., 168., 283., 252.,  43.,\n",
              "        74.,  78., 209., 270.,  90.,  73., 310., 102., 115.,  85., 104.,\n",
              "        68., 101., 139.,  63.,  72.,  58., 131.,  71.,  98.,  88., 277.,\n",
              "       104., 167., 108., 111., 214., 135., 196., 189.,  77., 225.,  60.,\n",
              "        67., 292., 143., 281.,  25., 200.,  91., 263.,  95., 144., 232.,\n",
              "       109.,  51.,  64., 283., 259., 214.,  60., 111., 258.,  68., 174.,\n",
              "       118., 113., 306.,  70.,  78., 191., 220., 183., 124.,  44.,  63.,\n",
              "       114., 229.,  77., 168., 262.,  91.,  85., 129.,  94., 145., 242.,\n",
              "       259., 270., 141., 272., 142., 276.,  65., 235., 185., 245.,  71.,\n",
              "        72., 200., 160., 101., 131.,  83., 202., 121., 178., 217.,  86.,\n",
              "       280., 230., 246., 128.,  85.,  42.,  88., 104., 143., 180., 181.,\n",
              "        48.,  71., 122.,  52., 152., 151., 281.,  53.,  88., 274., 155.,\n",
              "       279., 129., 263., 257., 220.,  48.,  93., 128., 142., 152.,  51.,\n",
              "        63., 243.,  87., 190.,  72.,  71.,  69., 100., 136., 139., 163.,\n",
              "       196., 110., 200., 170., 303., 200., 317.,  42., 281., 172., 275.,\n",
              "       310.,  61., 346.,  65.,  89.,  97., 220., 190.,  55.,  81.,  83.,\n",
              "       166., 236., 116., 275., 275., 244.,  55.,  85., 118., 142., 118.,\n",
              "       134.,  74., 308., 252.,  47.,  50., 242., 198., 126., 281.,  97.,\n",
              "       206., 178.,  52., 253.,  90., 225.,  75.,  97., 264., 131., 144.,\n",
              "       202., 185., 221., 137.,  92., 268., 311., 187., 153., 202., 257.,\n",
              "       197., 197.,  57.,  48., 175.,  96.,  84., 127., 178.,  99., 102.,\n",
              "       147., 199.,  71., 192.,  49., 201., 268., 170., 332., 243., 179.,\n",
              "        49., 109.,  90., 107., 148.,  52.,  83., 182., 272., 237., 120.,\n",
              "        65., 132.,  90., 216., 141., 180., 124., 160., 155.,  94., 150.,\n",
              "        72.,  95., 181.,  59.,  77., 341., 111., 142.,  99., 297., 150.,\n",
              "       208.,  65.,  37.,  84., 134., 210., 144., 220.,  92., 242., 132.,\n",
              "       206.])"
            ]
          },
          "metadata": {},
          "execution_count": 22
        }
      ],
      "source": [
        "x_train\n",
        "y_train"
      ]
    },
    {
      "cell_type": "code",
      "execution_count": 23,
      "metadata": {
        "id": "gLQBuRIpeH-o"
      },
      "outputs": [],
      "source": [
        "# from keras.utils import np_utils\n",
        "# y_train = np_utils.to_categorical(y_train)\n",
        "# y_train.shape"
      ]
    },
    {
      "cell_type": "code",
      "execution_count": 24,
      "metadata": {
        "colab": {
          "base_uri": "https://localhost:8080/"
        },
        "outputId": "cb838c33-b29e-4a3b-96e9-03ab52873680",
        "id": "IUdWC2uPeH-p"
      },
      "outputs": [
        {
          "output_type": "execute_result",
          "data": {
            "text/plain": [
              "array([170.,  77.,  49.,  66., 144., 113., 233., 162., 121.,  88., 302.,\n",
              "       128.,  52., 178.,  90., 164., 135., 103., 200., 178., 261.,  64.,\n",
              "        59.,  79.,  47., 107.,  39., 151., 104., 217., 232.,  55., 245.,\n",
              "       131.,  64., 222., 249., 128., 293., 138., 273., 158., 168., 103.,\n",
              "       140., 146., 277., 116., 233.,  94., 295., 191., 241., 154., 141.,\n",
              "       252., 198., 288., 101., 179., 129., 174.,  91.,  84., 177., 219.,\n",
              "        67., 113.,  70.,  53., 150.,  40., 258., 168., 283., 252.,  43.,\n",
              "        74.,  78., 209., 270.,  90.,  73., 310., 102., 115.,  85., 104.,\n",
              "        68., 101., 139.,  63.,  72.,  58., 131.,  71.,  98.,  88., 277.,\n",
              "       104., 167., 108., 111., 214., 135., 196., 189.,  77., 225.,  60.,\n",
              "        67., 292., 143., 281.,  25., 200.,  91., 263.,  95., 144., 232.,\n",
              "       109.,  51.,  64., 283., 259., 214.,  60., 111., 258.,  68., 174.,\n",
              "       118., 113., 306.,  70.,  78., 191., 220., 183., 124.,  44.,  63.,\n",
              "       114., 229.,  77., 168., 262.,  91.,  85., 129.,  94., 145., 242.,\n",
              "       259., 270., 141., 272., 142., 276.,  65., 235., 185., 245.,  71.,\n",
              "        72., 200., 160., 101., 131.,  83., 202., 121., 178., 217.,  86.,\n",
              "       280., 230., 246., 128.,  85.,  42.,  88., 104., 143., 180., 181.,\n",
              "        48.,  71., 122.,  52., 152., 151., 281.,  53.,  88., 274., 155.,\n",
              "       279., 129., 263., 257., 220.,  48.,  93., 128., 142., 152.,  51.,\n",
              "        63., 243.,  87., 190.,  72.,  71.,  69., 100., 136., 139., 163.,\n",
              "       196., 110., 200., 170., 303., 200., 317.,  42., 281., 172., 275.,\n",
              "       310.,  61., 346.,  65.,  89.,  97., 220., 190.,  55.,  81.,  83.,\n",
              "       166., 236., 116., 275., 275., 244.,  55.,  85., 118., 142., 118.,\n",
              "       134.,  74., 308., 252.,  47.,  50., 242., 198., 126., 281.,  97.,\n",
              "       206., 178.,  52., 253.,  90., 225.,  75.,  97., 264., 131., 144.,\n",
              "       202., 185., 221., 137.,  92., 268., 311., 187., 153., 202., 257.,\n",
              "       197., 197.,  57.,  48., 175.,  96.,  84., 127., 178.,  99., 102.,\n",
              "       147., 199.,  71., 192.,  49., 201., 268., 170., 332., 243., 179.,\n",
              "        49., 109.,  90., 107., 148.,  52.,  83., 182., 272., 237., 120.,\n",
              "        65., 132.,  90., 216., 141., 180., 124., 160., 155.,  94., 150.,\n",
              "        72.,  95., 181.,  59.,  77., 341., 111., 142.,  99., 297., 150.,\n",
              "       208.,  65.,  37.,  84., 134., 210., 144., 220.,  92., 242., 132.,\n",
              "       206.])"
            ]
          },
          "metadata": {},
          "execution_count": 24
        }
      ],
      "source": [
        "y_train"
      ]
    },
    {
      "cell_type": "code",
      "execution_count": 25,
      "metadata": {
        "id": "U5UBYiSPeH-p"
      },
      "outputs": [],
      "source": [
        "network1 = Network()\n",
        "x1=x_train.shape[1]\n",
        "x2=x1*2\n",
        "network1.add(complateLayer(x1, x2))\n",
        "network1.add(activationFunction(relu, relu_der))\n",
        "network1.add(complateLayer(x2, 1))\n",
        "network1.add(activationFunction(linear, linear_der))\n"
      ]
    },
    {
      "cell_type": "code",
      "source": [
        "network1.use(mse, mseDer)\n",
        "\n",
        "network1.fit(x_train ,y_train, epochs=50, learning_rate=0.001)"
      ],
      "metadata": {
        "colab": {
          "base_uri": "https://localhost:8080/"
        },
        "id": "1UTM-NDIexvC",
        "outputId": "78533d2a-6d65-4c0e-8a20-e871b56f69ca"
      },
      "execution_count": 26,
      "outputs": [
        {
          "output_type": "stream",
          "name": "stdout",
          "text": [
            "epoch 1/50   error=6609.467574\n",
            "epoch 2/50   error=5278.709389\n",
            "epoch 3/50   error=4897.286642\n",
            "epoch 4/50   error=4707.425909\n",
            "epoch 5/50   error=4588.848188\n",
            "epoch 6/50   error=4504.196967\n",
            "epoch 7/50   error=4441.861569\n",
            "epoch 8/50   error=4385.466929\n",
            "epoch 9/50   error=4336.421500\n",
            "epoch 10/50   error=4292.069885\n",
            "epoch 11/50   error=4240.357981\n",
            "epoch 12/50   error=4205.995101\n",
            "epoch 13/50   error=4180.555538\n",
            "epoch 14/50   error=4132.117388\n",
            "epoch 15/50   error=4103.847811\n",
            "epoch 16/50   error=4083.995874\n",
            "epoch 17/50   error=4043.789953\n",
            "epoch 18/50   error=4016.587065\n",
            "epoch 19/50   error=3935.569013\n",
            "epoch 20/50   error=3890.430001\n",
            "epoch 21/50   error=3856.396643\n",
            "epoch 22/50   error=3822.358965\n",
            "epoch 23/50   error=3785.215547\n",
            "epoch 24/50   error=3758.260437\n",
            "epoch 25/50   error=3724.802406\n",
            "epoch 26/50   error=3698.987481\n",
            "epoch 27/50   error=3671.308517\n",
            "epoch 28/50   error=3649.459273\n",
            "epoch 29/50   error=3668.058454\n",
            "epoch 30/50   error=3632.846739\n",
            "epoch 31/50   error=3619.896243\n",
            "epoch 32/50   error=3594.641909\n",
            "epoch 33/50   error=3578.329421\n",
            "epoch 34/50   error=3567.366985\n",
            "epoch 35/50   error=3544.007980\n",
            "epoch 36/50   error=3548.670017\n",
            "epoch 37/50   error=3542.303078\n",
            "epoch 38/50   error=3537.554834\n",
            "epoch 39/50   error=3518.791998\n",
            "epoch 40/50   error=3514.206857\n",
            "epoch 41/50   error=3520.201754\n",
            "epoch 42/50   error=3511.602583\n",
            "epoch 43/50   error=3500.898227\n",
            "epoch 44/50   error=3500.570091\n",
            "epoch 45/50   error=3495.793297\n",
            "epoch 46/50   error=3501.686428\n",
            "epoch 47/50   error=3508.899834\n",
            "epoch 48/50   error=3491.700326\n",
            "epoch 49/50   error=3485.327988\n",
            "epoch 50/50   error=3484.758640\n"
          ]
        }
      ]
    },
    {
      "cell_type": "code",
      "execution_count": 27,
      "metadata": {
        "colab": {
          "base_uri": "https://localhost:8080/"
        },
        "id": "QCiXacoN92bR",
        "outputId": "605c6069-b5ed-4b6e-e7fd-10da682525e3"
      },
      "outputs": [
        {
          "output_type": "stream",
          "name": "stdout",
          "text": [
            "[array([[117.04438701]]), array([[112.386688]]), array([[170.32316954]]), array([[113.9898358]]), array([[120.01999125]]), array([[115.0666298]]), array([[199.37076638]]), array([[108.4017489]]), array([[106.99268136]]), array([[106.99268136]]), array([[107.04882188]]), array([[134.89375333]]), array([[121.98952225]]), array([[152.56485915]]), array([[172.08124233]]), array([[128.00584771]]), array([[107.0620001]]), array([[108.37533863]]), array([[134.2933391]]), array([[148.0209955]]), array([[118.87381387]]), array([[179.88745642]]), array([[118.60920415]]), array([[106.99268136]]), array([[106.99268136]]), array([[142.19375565]]), array([[106.99268136]]), array([[106.99268136]]), array([[116.54787399]]), array([[129.48799289]]), array([[106.99878233]]), array([[181.23553491]]), array([[142.4435242]]), array([[163.22873989]]), array([[144.19124436]]), array([[106.99268136]]), array([[106.99268136]]), array([[106.99268136]]), array([[168.95198061]]), array([[106.99268136]]), array([[153.96439221]]), array([[106.99268136]]), array([[106.99268136]]), array([[107.05109588]]), array([[106.99268136]]), array([[172.14844609]]), array([[106.99268136]]), array([[106.99268136]]), array([[106.99268136]]), array([[167.63986887]]), array([[106.99268136]]), array([[107.04112439]]), array([[143.67227478]]), array([[155.76248204]]), array([[106.99268136]]), array([[144.07723635]]), array([[180.19976081]]), array([[137.48908618]]), array([[136.18508261]]), array([[133.75208976]]), array([[109.63315956]]), array([[106.99268136]]), array([[181.99851592]]), array([[154.59321694]]), array([[146.14359605]]), array([[106.99268136]]), array([[106.99268136]]), array([[125.76446553]]), array([[109.76169688]]), array([[106.99268136]]), array([[106.99268136]]), array([[106.99268136]]), array([[107.17569618]]), array([[143.58485198]]), array([[106.99268136]]), array([[128.48412145]]), array([[107.46663435]]), array([[112.83020385]]), array([[106.99268136]]), array([[106.99268136]]), array([[106.99268136]]), array([[122.78223062]]), array([[106.99268136]]), array([[168.72564814]]), array([[226.2357166]]), array([[133.07622874]]), array([[150.55853473]]), array([[106.99268136]]), array([[107.68225777]])]\n"
          ]
        }
      ],
      "source": [
        "out = network1.predict(x_test)\n",
        "print(out)"
      ]
    },
    {
      "cell_type": "code",
      "execution_count": 28,
      "metadata": {
        "id": "HrgHb91WFtkq",
        "colab": {
          "base_uri": "https://localhost:8080/"
        },
        "outputId": "d04c28b5-cead-4dc1-85fd-683f8229ff85"
      },
      "outputs": [
        {
          "output_type": "execute_result",
          "data": {
            "text/plain": [
              "array([185., 150., 246., 184., 110., 202., 336.,  69.,  69.,  87.,  66.,\n",
              "       164., 265., 198., 248., 171., 102., 182., 262., 233., 151., 275.,\n",
              "       230.,  39.,  42., 122.,  81.,  31., 156., 161.,  80., 215., 310.,\n",
              "       163., 265.,  84.,  54., 137., 248.,  72., 248.,  59.,  97.,  61.,\n",
              "        72., 296.,  55.,  75.,  53., 173., 158.,  96., 140., 186.,  93.,\n",
              "       123., 237., 138., 292.,  78., 182., 127., 321., 109., 212.,  45.,\n",
              "        96., 109.,  89.,  96.,  60.,  51., 200., 265.,  68.,  91., 172.,\n",
              "       115., 125.,  53.,  63., 259., 214., 195., 258., 235., 173.,  59.,\n",
              "       219.])"
            ]
          },
          "metadata": {},
          "execution_count": 28
        }
      ],
      "source": [
        "y_test"
      ]
    },
    {
      "cell_type": "code",
      "source": [],
      "metadata": {
        "id": "IsGu4EPB6LlO"
      },
      "execution_count": 28,
      "outputs": []
    }
  ],
  "metadata": {
    "colab": {
      "collapsed_sections": [],
      "provenance": [],
      "authorship_tag": "ABX9TyPhQ3Rg0EZ+qLBuHdg7357U",
      "include_colab_link": true
    },
    "kernelspec": {
      "display_name": "Python 3",
      "name": "python3"
    },
    "language_info": {
      "name": "python"
    }
  },
  "nbformat": 4,
  "nbformat_minor": 0
}